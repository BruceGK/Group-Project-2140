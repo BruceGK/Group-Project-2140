{
 "cells": [
  {
   "cell_type": "code",
   "execution_count": 1,
   "id": "76a08e88",
   "metadata": {},
   "outputs": [
    {
     "name": "stdout",
     "output_type": "stream",
     "text": [
      "/Users/mig/Desktop/pitt/projects/Group-Project-2140/cord_ir\n"
     ]
    }
   ],
   "source": [
    "cd .."
   ]
  },
  {
   "cell_type": "code",
   "execution_count": 2,
   "id": "be6dc463",
   "metadata": {},
   "outputs": [],
   "source": [
    "from search.elastic_index_reader import IndexReader\n",
    "from tqdm.notebook import trange, tqdm\n",
    "import math"
   ]
  },
  {
   "cell_type": "code",
   "execution_count": 3,
   "id": "1b7b2b8b",
   "metadata": {},
   "outputs": [],
   "source": [
    "import xml.etree.ElementTree as ET\n",
    "queryTree = ET.parse('../data/2020-07-16/eval/topics-rnd5.xml')"
   ]
  },
  {
   "cell_type": "code",
   "execution_count": 4,
   "id": "de471be9",
   "metadata": {},
   "outputs": [],
   "source": [
    "queryRoot = queryTree.getroot()\n",
    "queries = []\n",
    "for child in queryRoot:\n",
    "    query = {\n",
    "        'queryNo': child.attrib['number'],\n",
    "        'query': child.find('query').text,\n",
    "        'question': child.find('question').text,\n",
    "        'narrative': child.find('narrative').text\n",
    "    }\n",
    "    queries.append(query)"
   ]
  },
  {
   "cell_type": "code",
   "execution_count": 5,
   "id": "78fa920b",
   "metadata": {},
   "outputs": [
    {
     "name": "stderr",
     "output_type": "stream",
     "text": [
      "/opt/homebrew/Caskroom/miniforge/base/envs/info-retri/lib/python3.9/site-packages/elasticsearch/connection/base.py:209: ElasticsearchWarning: Elasticsearch built-in security features are not enabled. Without authentication, your cluster could be accessible to anyone. See https://www.elastic.co/guide/en/elasticsearch/reference/7.15/security-minimal-setup.html to enable security.\n",
      "  warnings.warn(message, category=ElasticsearchWarning)\n"
     ]
    }
   ],
   "source": [
    "reader = IndexReader()\n",
    "for query in queries:\n",
    "    query['query_tokens'] = [t['token'] for t in reader.tokenize(query['query'])['tokens']]\n",
    "    query['question_tokens'] = [t['token'] for t in reader.tokenize(query['question'])['tokens']]\n",
    "    query['narrative_tokens'] = [t['token'] for t in reader.tokenize(query['narrative'])['tokens']]"
   ]
  },
  {
   "cell_type": "code",
   "execution_count": 6,
   "id": "e8323856",
   "metadata": {},
   "outputs": [],
   "source": [
    "def getRetrievalResults(queries, field):\n",
    "    results = {}\n",
    "    for query in tqdm(queries):\n",
    "        res = reader.search(\"cord_test\", query[field], size=200, fields=[], highlight=False)\n",
    "        results[query['queryNo']] = res['hits']['hits']\n",
    "    return results"
   ]
  },
  {
   "cell_type": "code",
   "execution_count": 7,
   "id": "25bb6ba7",
   "metadata": {},
   "outputs": [
    {
     "data": {
      "application/vnd.jupyter.widget-view+json": {
       "model_id": "96520e1b17944a60881e3e9ad2f2eb0c",
       "version_major": 2,
       "version_minor": 0
      },
      "text/plain": [
       "  0%|          | 0/50 [00:00<?, ?it/s]"
      ]
     },
     "metadata": {},
     "output_type": "display_data"
    },
    {
     "data": {
      "application/vnd.jupyter.widget-view+json": {
       "model_id": "4d4d58d1892b43d6a2141a7c1e344525",
       "version_major": 2,
       "version_minor": 0
      },
      "text/plain": [
       "  0%|          | 0/50 [00:00<?, ?it/s]"
      ]
     },
     "metadata": {},
     "output_type": "display_data"
    },
    {
     "data": {
      "application/vnd.jupyter.widget-view+json": {
       "model_id": "efc622b9899e4517bb870085aafdffcd",
       "version_major": 2,
       "version_minor": 0
      },
      "text/plain": [
       "  0%|          | 0/50 [00:00<?, ?it/s]"
      ]
     },
     "metadata": {},
     "output_type": "display_data"
    }
   ],
   "source": [
    "queryFields = ['query', 'question', 'narrative']\n",
    "results = {f: getRetrievalResults(queries, f) for f in queryFields}"
   ]
  },
  {
   "cell_type": "code",
   "execution_count": 8,
   "id": "61a664b0",
   "metadata": {},
   "outputs": [],
   "source": [
    "# load the judgments\n",
    "judgments = {q['queryNo']: [] for q in queries}\n",
    "with open('../data/2020-07-16/eval/qrels-covid_d5_j0.5-5.txt', 'r') as qrels:\n",
    "    for line in qrels:\n",
    "        [topicId, iteration, cordId, judgment] = line.strip('\\n').split(' ')\n",
    "        judgments[topicId].append({\n",
    "            'iteration': iteration,\n",
    "            'cordId': cordId,\n",
    "            'judgment': judgment\n",
    "        })"
   ]
  },
  {
   "cell_type": "code",
   "execution_count": 9,
   "id": "031286ea",
   "metadata": {},
   "outputs": [
    {
     "data": {
      "application/vnd.jupyter.widget-view+json": {
       "model_id": "554e99dbaab44c688cd77a376190cc29",
       "version_major": 2,
       "version_minor": 0
      },
      "text/plain": [
       "  0%|          | 0/50 [00:00<?, ?it/s]"
      ]
     },
     "metadata": {},
     "output_type": "display_data"
    },
    {
     "data": {
      "application/vnd.jupyter.widget-view+json": {
       "model_id": "1b1e7f7c233e4b88be9536a9472cc9a9",
       "version_major": 2,
       "version_minor": 0
      },
      "text/plain": [
       "  0%|          | 0/50 [00:00<?, ?it/s]"
      ]
     },
     "metadata": {},
     "output_type": "display_data"
    },
    {
     "data": {
      "application/vnd.jupyter.widget-view+json": {
       "model_id": "bbb772974e3c4cabb20476e383e76559",
       "version_major": 2,
       "version_minor": 0
      },
      "text/plain": [
       "  0%|          | 0/50 [00:00<?, ?it/s]"
      ]
     },
     "metadata": {},
     "output_type": "display_data"
    }
   ],
   "source": [
    "for field in queryFields:\n",
    "    with open('../data/2020-07-16/eval/%s-result.txt'%field, 'w') as res_file:\n",
    "        fieldResults = results[field]\n",
    "        for query in tqdm(queries):\n",
    "            for (index, result) in enumerate(fieldResults[query['queryNo']]):\n",
    "                line = ' '.join([query['queryNo'], 'Q0', result['_id'], str(index + 1), str(result['_score']), field])\n",
    "                res_file.write(line + '\\n')"
   ]
  },
  {
   "cell_type": "code",
   "execution_count": 10,
   "id": "2ad566cc",
   "metadata": {},
   "outputs": [
    {
     "name": "stdout",
     "output_type": "stream",
     "text": [
      "runid                 \tall\tquery\n",
      "num_q                 \tall\t50\n",
      "num_ret               \tall\t10000\n",
      "num_rel               \tall\t26664\n",
      "num_rel_ret           \tall\t3395\n",
      "map                   \tall\t0.0791\n",
      "gm_map                \tall\t0.0344\n",
      "Rprec                 \tall\t0.1349\n",
      "bpref                 \tall\t0.1264\n",
      "recip_rank            \tall\t0.7509\n",
      "iprec_at_recall_0.00  \tall\t0.7881\n",
      "iprec_at_recall_0.10  \tall\t0.3815\n",
      "iprec_at_recall_0.20  \tall\t0.1179\n",
      "iprec_at_recall_0.30  \tall\t0.0225\n",
      "iprec_at_recall_0.40  \tall\t0.0000\n",
      "iprec_at_recall_0.50  \tall\t0.0000\n",
      "iprec_at_recall_0.60  \tall\t0.0000\n",
      "iprec_at_recall_0.70  \tall\t0.0000\n",
      "iprec_at_recall_0.80  \tall\t0.0000\n",
      "iprec_at_recall_0.90  \tall\t0.0000\n",
      "iprec_at_recall_1.00  \tall\t0.0000\n",
      "P_5                   \tall\t0.5960\n",
      "P_10                  \tall\t0.5480\n",
      "P_15                  \tall\t0.5147\n",
      "P_20                  \tall\t0.5140\n",
      "P_30                  \tall\t0.4953\n",
      "P_100                 \tall\t0.4030\n",
      "P_200                 \tall\t0.3395\n",
      "P_500                 \tall\t0.1358\n",
      "P_1000                \tall\t0.0679\n",
      "runid                 \tall\tquestion\n",
      "num_q                 \tall\t50\n",
      "num_ret               \tall\t10000\n",
      "num_rel               \tall\t26664\n",
      "num_rel_ret           \tall\t2263\n",
      "map                   \tall\t0.0422\n",
      "gm_map                \tall\t0.0159\n",
      "Rprec                 \tall\t0.0906\n",
      "bpref                 \tall\t0.0862\n",
      "recip_rank            \tall\t0.6226\n",
      "iprec_at_recall_0.00  \tall\t0.6655\n",
      "iprec_at_recall_0.10  \tall\t0.1832\n",
      "iprec_at_recall_0.20  \tall\t0.0405\n",
      "iprec_at_recall_0.30  \tall\t0.0230\n",
      "iprec_at_recall_0.40  \tall\t0.0000\n",
      "iprec_at_recall_0.50  \tall\t0.0000\n",
      "iprec_at_recall_0.60  \tall\t0.0000\n",
      "iprec_at_recall_0.70  \tall\t0.0000\n",
      "iprec_at_recall_0.80  \tall\t0.0000\n",
      "iprec_at_recall_0.90  \tall\t0.0000\n",
      "iprec_at_recall_1.00  \tall\t0.0000\n",
      "P_5                   \tall\t0.4240\n",
      "P_10                  \tall\t0.3840\n",
      "P_15                  \tall\t0.3707\n",
      "P_20                  \tall\t0.3570\n",
      "P_30                  \tall\t0.3400\n",
      "P_100                 \tall\t0.2682\n",
      "P_200                 \tall\t0.2263\n",
      "P_500                 \tall\t0.0905\n",
      "P_1000                \tall\t0.0453\n",
      "runid                 \tall\tnarrative\n",
      "num_q                 \tall\t50\n",
      "num_ret               \tall\t10000\n",
      "num_rel               \tall\t26664\n",
      "num_rel_ret           \tall\t1886\n",
      "map                   \tall\t0.0309\n",
      "gm_map                \tall\t0.0102\n",
      "Rprec                 \tall\t0.0745\n",
      "bpref                 \tall\t0.0712\n",
      "recip_rank            \tall\t0.5323\n",
      "iprec_at_recall_0.00  \tall\t0.5911\n",
      "iprec_at_recall_0.10  \tall\t0.1182\n",
      "iprec_at_recall_0.20  \tall\t0.0214\n",
      "iprec_at_recall_0.30  \tall\t0.0000\n",
      "iprec_at_recall_0.40  \tall\t0.0000\n",
      "iprec_at_recall_0.50  \tall\t0.0000\n",
      "iprec_at_recall_0.60  \tall\t0.0000\n",
      "iprec_at_recall_0.70  \tall\t0.0000\n",
      "iprec_at_recall_0.80  \tall\t0.0000\n",
      "iprec_at_recall_0.90  \tall\t0.0000\n",
      "iprec_at_recall_1.00  \tall\t0.0000\n",
      "P_5                   \tall\t0.3840\n",
      "P_10                  \tall\t0.3680\n",
      "P_15                  \tall\t0.3453\n",
      "P_20                  \tall\t0.3290\n",
      "P_30                  \tall\t0.2967\n",
      "P_100                 \tall\t0.2302\n",
      "P_200                 \tall\t0.1886\n",
      "P_500                 \tall\t0.0754\n",
      "P_1000                \tall\t0.0377\n"
     ]
    }
   ],
   "source": [
    "# use trec_eval to get evaluation\n",
    "!../data/2020-07-16/eval/trec_eval ../data/2020-07-16/eval/qrels-covid_d5_j0.5-5.txt ../data/2020-07-16/eval/query-result.txt\n",
    "!../data/2020-07-16/eval/trec_eval ../data/2020-07-16/eval/qrels-covid_d5_j0.5-5.txt ../data/2020-07-16/eval/question-result.txt\n",
    "!../data/2020-07-16/eval/trec_eval ../data/2020-07-16/eval/qrels-covid_d5_j0.5-5.txt ../data/2020-07-16/eval/narrative-result.txt"
   ]
  },
  {
   "cell_type": "code",
   "execution_count": 11,
   "id": "0c18beb1",
   "metadata": {},
   "outputs": [],
   "source": [
    "# calculate in Python\n",
    "ndcg_eval_at = [3, 5, 10, 15, 20, 25, 30, 40]\n",
    "recall_eval_at = [5, 10, 20, 50, 100]\n",
    "def getEvaluation(results, judgments):\n",
    "    queryEval = []\n",
    "    for queryNo in results:\n",
    "        # doc to relevant score\n",
    "        relMap = {}\n",
    "        # number of docs in each relevant score\n",
    "        relCount = {}\n",
    "        totalRel = 0\n",
    "        for j in judgments[queryNo]:\n",
    "            score = int(j['judgment'])\n",
    "            relMap[j['cordId']] = score\n",
    "            relCount[score] = relCount.get(score, 0) + 1\n",
    "            if score > 0:\n",
    "                totalRel += 1\n",
    "        truePositive = 0\n",
    "        falsePositive = 0\n",
    "        precisions = []\n",
    "        reciprocalRank = 0\n",
    "        cumulativeGain = 0\n",
    "        discountedCumulativeGain = 0\n",
    "        idealDCG = 0\n",
    "        dcgAt = {}\n",
    "        idcgAt = {}\n",
    "        ndcgAt = {}\n",
    "        index = 1\n",
    "        recallAt = {}\n",
    "        for score in sorted(relCount.keys(), reverse=True):\n",
    "            for i in range(relCount[score]):\n",
    "                idealDCG += (2 ** score - 1) / (math.log2(1 + index))\n",
    "                if index in ndcg_eval_at:\n",
    "                    idcgAt[index] = idealDCG\n",
    "                index += 1\n",
    "        for (index, doc) in enumerate(results[queryNo]):\n",
    "            docId = doc['_id']\n",
    "            cumulativeGain += relMap.get(docId, 0)\n",
    "            discountedCumulativeGain += (2 ** (relMap.get(docId, 0)) - 1) / (math.log2(1 + (1 + i)))\n",
    "            if relMap.get(docId, 0) > 0:\n",
    "                truePositive += 1\n",
    "                # recall increase\n",
    "                precisions.append(truePositive / (truePositive + falsePositive))\n",
    "                if reciprocalRank == 0:\n",
    "                    reciprocalRank = 1 / (index+1)\n",
    "            else:\n",
    "                falsePositive += 1\n",
    "            if index + 1 in ndcg_eval_at and (index + 1) in idcgAt:\n",
    "                dcgAt[index + 1] = discountedCumulativeGain\n",
    "                ndcgAt[index + 1] = dcgAt[index + 1] / idcgAt[index + 1]\n",
    "            if index + 1 in recall_eval_at:\n",
    "                recallAt[index + 1] = truePositive / totalRel\n",
    "        queryEval.append({\n",
    "            'AveragePrecision': sum(precisions) / totalRel,\n",
    "            'ReciprocalRank': reciprocalRank,\n",
    "            'CG': cumulativeGain,\n",
    "            'DCG': discountedCumulativeGain,\n",
    "            'IDCG': idealDCG,\n",
    "            'nDCG': discountedCumulativeGain / idealDCG,\n",
    "            'nDCGAt': ndcgAt,\n",
    "            'recallAt': recallAt\n",
    "        })\n",
    "    return {\n",
    "        'MeanAveragePrecisions': sum(map(lambda e: e['AveragePrecision'], queryEval)) / len(queryEval),\n",
    "        'MeanReciprocalRank': sum(map(lambda e: e['ReciprocalRank'], queryEval)) / len(queryEval),\n",
    "        'AverageNDCG': sum(map(lambda e: e['nDCG'], queryEval)) / len(queryEval),\n",
    "        'AverageNDCGAt': {k: sum(map(lambda e: e['nDCGAt'][k], queryEval)) / len(queryEval) for k in ndcg_eval_at},\n",
    "        'AverageRecallAt': {k: sum(map(lambda e: e['recallAt'][k], queryEval)) / len(queryEval) for k in recall_eval_at}\n",
    "    }\n",
    "            "
   ]
  },
  {
   "cell_type": "code",
   "execution_count": 12,
   "id": "66552362",
   "metadata": {},
   "outputs": [
    {
     "data": {
      "text/plain": [
       "{'MeanAveragePrecisions': 0.07905817051715658,\n",
       " 'MeanReciprocalRank': 0.7404582166199813,\n",
       " 'AverageNDCG': 0.1203448947865941,\n",
       " 'AverageNDCGAt': {3: 0.09962907856276683,\n",
       "  5: 0.11286242159868014,\n",
       "  10: 0.13322677065987917,\n",
       "  15: 0.1471942045945804,\n",
       "  20: 0.16160510771686865,\n",
       "  25: 0.1670552303123782,\n",
       "  30: 0.17365398038470478,\n",
       "  40: 0.17473461145635494},\n",
       " 'AverageRecallAt': {5: 0.006988752457588285,\n",
       "  10: 0.012564758938439573,\n",
       "  20: 0.023052673601248047,\n",
       "  50: 0.04808866524500816,\n",
       "  100: 0.0829858583204547}}"
      ]
     },
     "execution_count": 12,
     "metadata": {},
     "output_type": "execute_result"
    }
   ],
   "source": [
    "getEvaluation(results['query'], judgments)"
   ]
  },
  {
   "cell_type": "code",
   "execution_count": 13,
   "id": "a1b6d77b",
   "metadata": {},
   "outputs": [
    {
     "data": {
      "text/plain": [
       "{'MeanAveragePrecisions': 0.04220131446633107,\n",
       " 'MeanReciprocalRank': 0.6208614718614719,\n",
       " 'AverageNDCG': 0.07316280439784144,\n",
       " 'AverageNDCGAt': {3: 0.06367230456523088,\n",
       "  5: 0.06498192538934379,\n",
       "  10: 0.07875649120708939,\n",
       "  15: 0.08630291585790087,\n",
       "  20: 0.0952219411193689,\n",
       "  25: 0.1016283289161539,\n",
       "  30: 0.1053778390263165,\n",
       "  40: 0.10575790792898676},\n",
       " 'AverageRecallAt': {5: 0.00481984842025312,\n",
       "  10: 0.008675436958328335,\n",
       "  20: 0.01548129642156619,\n",
       "  50: 0.03196019574083703,\n",
       "  100: 0.05562349721084239}}"
      ]
     },
     "execution_count": 13,
     "metadata": {},
     "output_type": "execute_result"
    }
   ],
   "source": [
    "getEvaluation(results['question'], judgments)"
   ]
  },
  {
   "cell_type": "code",
   "execution_count": 14,
   "id": "b0478f03",
   "metadata": {},
   "outputs": [
    {
     "data": {
      "text/plain": [
       "{'MeanAveragePrecisions': 0.030891875855406422,\n",
       " 'MeanReciprocalRank': 0.5323157251473863,\n",
       " 'AverageNDCG': 0.06652407617726913,\n",
       " 'AverageNDCGAt': {3: 0.050821528421235815,\n",
       "  5: 0.07163416628936221,\n",
       "  10: 0.08641802127135723,\n",
       "  15: 0.09762487472789444,\n",
       "  20: 0.09956498480952469,\n",
       "  25: 0.10190612240665096,\n",
       "  30: 0.1016210409440072,\n",
       "  40: 0.10664452683987584},\n",
       " 'AverageRecallAt': {5: 0.0040163215737498,\n",
       "  10: 0.007869489447461506,\n",
       "  20: 0.014053326195406082,\n",
       "  50: 0.027675681896049045,\n",
       "  100: 0.047479684284937373}}"
      ]
     },
     "execution_count": 14,
     "metadata": {},
     "output_type": "execute_result"
    }
   ],
   "source": [
    "getEvaluation(results['narrative'], judgments)"
   ]
  },
  {
   "cell_type": "code",
   "execution_count": 15,
   "id": "8d437ce6",
   "metadata": {},
   "outputs": [],
   "source": [
    "# ML Part \n",
    "from search.ml_rank import MlRanker\n",
    "from search.data_loader import DataLoader\n",
    "ranker = MlRanker(\"../data/models/ranker.joblib\",\n",
    "                  '../data/models/tfidf.joblib',\n",
    "                  \"../data/models/docMatrix.joblib\")\n",
    "loader = DataLoader('../data/2020-07-16')\n",
    "loader.load_metadata_mappings(loader.load_metadata())"
   ]
  },
  {
   "cell_type": "code",
   "execution_count": null,
   "id": "bff2594c",
   "metadata": {},
   "outputs": [],
   "source": []
  },
  {
   "cell_type": "code",
   "execution_count": 16,
   "id": "baf83f73",
   "metadata": {},
   "outputs": [
    {
     "data": {
      "application/vnd.jupyter.widget-view+json": {
       "model_id": "bc027dcc9d6349bd832943e02469f964",
       "version_major": 2,
       "version_minor": 0
      },
      "text/plain": [
       "  0%|          | 0/50 [00:00<?, ?it/s]"
      ]
     },
     "metadata": {},
     "output_type": "display_data"
    },
    {
     "name": "stderr",
     "output_type": "stream",
     "text": [
      "/opt/homebrew/Caskroom/miniforge/base/envs/info-retri/lib/python3.9/site-packages/elasticsearch/connection/base.py:209: ElasticsearchWarning: Elasticsearch built-in security features are not enabled. Without authentication, your cluster could be accessible to anyone. See https://www.elastic.co/guide/en/elasticsearch/reference/7.15/security-minimal-setup.html to enable security.\n",
      "  warnings.warn(message, category=ElasticsearchWarning)\n",
      "/opt/homebrew/Caskroom/miniforge/base/envs/info-retri/lib/python3.9/site-packages/lightgbm/basic.py:859: UserWarning: Converting data to scipy sparse matrix.\n",
      "  _log_warning('Converting data to scipy sparse matrix.')\n"
     ]
    },
    {
     "data": {
      "application/vnd.jupyter.widget-view+json": {
       "model_id": "dc26b8c6abc74700a4890bc5265e5d5b",
       "version_major": 2,
       "version_minor": 0
      },
      "text/plain": [
       "  0%|          | 0/50 [00:00<?, ?it/s]"
      ]
     },
     "metadata": {},
     "output_type": "display_data"
    },
    {
     "data": {
      "application/vnd.jupyter.widget-view+json": {
       "model_id": "68a66cbbb9374832800bc754be5f2ece",
       "version_major": 2,
       "version_minor": 0
      },
      "text/plain": [
       "  0%|          | 0/50 [00:00<?, ?it/s]"
      ]
     },
     "metadata": {},
     "output_type": "display_data"
    }
   ],
   "source": [
    "def getMlRetrievalResults(queries, field):\n",
    "    results = {}\n",
    "    for query in tqdm(queries):\n",
    "        res = reader.search(\"cord_test\", query[field], size=500, fields=[], highlight=False)\n",
    "        results[query['queryNo']] = ranker.rank(query[field], res['hits']['hits'], loader)[:200]\n",
    "#         results[query['queryNo']] = ranker.whole_rank(query[field], loader, size=3000)\n",
    "    return results\n",
    "queryFields = ['query', 'question', 'narrative']\n",
    "mlResults = {f: getMlRetrievalResults(queries, f) for f in queryFields}"
   ]
  },
  {
   "cell_type": "code",
   "execution_count": 17,
   "id": "3fc33898",
   "metadata": {},
   "outputs": [
    {
     "data": {
      "text/plain": [
       "{'MeanAveragePrecisions': 0.08909665591062012,\n",
       " 'MeanReciprocalRank': 0.8300108047690016,\n",
       " 'AverageNDCG': 0.13354670835492266,\n",
       " 'AverageNDCGAt': {3: 0.1556992130036726,\n",
       "  5: 0.17691309388655238,\n",
       "  10: 0.1995525814494245,\n",
       "  15: 0.20724525686129394,\n",
       "  20: 0.21690807718624938,\n",
       "  25: 0.22144590377390178,\n",
       "  30: 0.2184926267444479,\n",
       "  40: 0.2208855089694549},\n",
       " 'AverageRecallAt': {5: 0.009195267123481116,\n",
       "  10: 0.015760882429161027,\n",
       "  20: 0.027554322182414513,\n",
       "  50: 0.056245261644712906,\n",
       "  100: 0.09248961586569561}}"
      ]
     },
     "execution_count": 17,
     "metadata": {},
     "output_type": "execute_result"
    }
   ],
   "source": [
    "getEvaluation(mlResults['query'], judgments)"
   ]
  },
  {
   "cell_type": "code",
   "execution_count": 18,
   "id": "a2981a9c",
   "metadata": {},
   "outputs": [
    {
     "data": {
      "text/plain": [
       "{'MeanAveragePrecisions': 0.06933904379137723,\n",
       " 'MeanReciprocalRank': 0.8561666666666666,\n",
       " 'AverageNDCG': 0.10303120234331954,\n",
       " 'AverageNDCGAt': {3: 0.15797849180424106,\n",
       "  5: 0.17271698662109178,\n",
       "  10: 0.20880836437751832,\n",
       "  15: 0.21957581371648605,\n",
       "  20: 0.21444726159121721,\n",
       "  25: 0.21415979617272654,\n",
       "  30: 0.2139261334732043,\n",
       "  40: 0.20944752188655283},\n",
       " 'AverageRecallAt': {5: 0.0083475072404962,\n",
       "  10: 0.015143784926980748,\n",
       "  20: 0.02639191547580016,\n",
       "  50: 0.05056268732852716,\n",
       "  100: 0.0787716806081566}}"
      ]
     },
     "execution_count": 18,
     "metadata": {},
     "output_type": "execute_result"
    }
   ],
   "source": [
    "getEvaluation(mlResults['question'], judgments)"
   ]
  },
  {
   "cell_type": "code",
   "execution_count": 19,
   "id": "aaf59880",
   "metadata": {},
   "outputs": [
    {
     "data": {
      "text/plain": [
       "{'MeanAveragePrecisions': 0.052429968976860745,\n",
       " 'MeanReciprocalRank': 0.7381911209358017,\n",
       " 'AverageNDCG': 0.09222067945144731,\n",
       " 'AverageNDCGAt': {3: 0.13121264337812696,\n",
       "  5: 0.15057619250419707,\n",
       "  10: 0.18374837193945076,\n",
       "  15: 0.18598510844882654,\n",
       "  20: 0.19580981009715237,\n",
       "  25: 0.19875688139536013,\n",
       "  30: 0.2035233749863616,\n",
       "  40: 0.19535825583538038},\n",
       " 'AverageRecallAt': {5: 0.007146272287410422,\n",
       "  10: 0.012602879150521506,\n",
       "  20: 0.021883227665868824,\n",
       "  50: 0.04221740559730582,\n",
       "  100: 0.06734230437865764}}"
      ]
     },
     "execution_count": 19,
     "metadata": {},
     "output_type": "execute_result"
    }
   ],
   "source": [
    "getEvaluation(mlResults['narrative'], judgments)"
   ]
  },
  {
   "cell_type": "code",
   "execution_count": 20,
   "id": "728b6e6e",
   "metadata": {},
   "outputs": [],
   "source": [
    "def get_diff(res1, res2):\n",
    "    res = {}\n",
    "    for key in res1.keys():\n",
    "        if isinstance(res1[key], dict):\n",
    "            res[key] = {}\n",
    "            for key2 in res1[key].keys():\n",
    "                res[key][key2] = str(((res2[key][key2] - res1[key][key2]) / res1[key][key2]) * 100) + '%'\n",
    "        else:\n",
    "            res[key] = str(((res2[key] - res1[key]) / res1[key]) * 100) + '%'\n",
    "    return res"
   ]
  },
  {
   "cell_type": "code",
   "execution_count": 21,
   "id": "c474f6d1",
   "metadata": {},
   "outputs": [
    {
     "data": {
      "text/plain": [
       "{'MeanAveragePrecisions': '12.697593844882949%',\n",
       " 'MeanReciprocalRank': '12.094212224128844%',\n",
       " 'AverageNDCG': '10.969982226283173%',\n",
       " 'AverageNDCGAt': {3: '56.27888488959706%',\n",
       "  5: '56.75110579819535%',\n",
       "  10: '49.784146580323245%',\n",
       "  15: '40.79715803493297%',\n",
       "  20: '34.22105294238055%',\n",
       "  25: '32.558497785324%',\n",
       "  30: '25.820684478645234%',\n",
       "  40: '26.41199538457068%'},\n",
       " 'AverageRecallAt': {5: '31.572368305834463%',\n",
       "  10: '25.437205014284043%',\n",
       "  20: '19.527663728005727%',\n",
       "  50: '16.961577864861695%',\n",
       "  100: '11.452261551048371%'}}"
      ]
     },
     "execution_count": 21,
     "metadata": {},
     "output_type": "execute_result"
    }
   ],
   "source": [
    "get_diff(getEvaluation(results['query'], judgments), getEvaluation(mlResults['query'], judgments))"
   ]
  },
  {
   "cell_type": "code",
   "execution_count": 22,
   "id": "e7bfcbbe",
   "metadata": {},
   "outputs": [
    {
     "data": {
      "text/plain": [
       "{'MeanAveragePrecisions': '64.30541244561732%',\n",
       " 'MeanReciprocalRank': '37.899790125436645%',\n",
       " 'AverageNDCG': '40.82456678814697%',\n",
       " 'AverageNDCGAt': {3: '148.111785623207%',\n",
       "  5: '165.79235008234332%',\n",
       "  10: '165.13162429806437%',\n",
       "  15: '154.42455974259448%',\n",
       "  20: '125.20782402701613%',\n",
       "  25: '110.72844398476147%',\n",
       "  30: '103.00865480813239%',\n",
       "  40: '98.04431270254562%'},\n",
       " 'AverageRecallAt': {5: '73.19024402136323%',\n",
       "  10: '74.55933343441407%',\n",
       "  20: '70.47613298738311%',\n",
       "  50: '58.205186659482386%',\n",
       "  100: '41.61583603700858%'}}"
      ]
     },
     "execution_count": 22,
     "metadata": {},
     "output_type": "execute_result"
    }
   ],
   "source": [
    "get_diff(getEvaluation(results['question'], judgments), getEvaluation(mlResults['question'], judgments))"
   ]
  },
  {
   "cell_type": "code",
   "execution_count": 23,
   "id": "e233df88",
   "metadata": {},
   "outputs": [
    {
     "data": {
      "text/plain": [
       "{'MeanAveragePrecisions': '69.72089756629303%',\n",
       " 'MeanReciprocalRank': '38.67543002443016%',\n",
       " 'AverageNDCG': '38.62752367384029%',\n",
       " 'AverageNDCGAt': {3: '158.18319018382704%',\n",
       "  5: '110.20164022842529%',\n",
       "  10: '112.62737706348425%',\n",
       "  15: '90.50995862193393%',\n",
       "  20: '96.66533417521357%',\n",
       "  25: '95.03919558653342%',\n",
       "  30: '100.27680596039377%',\n",
       "  40: '83.186387172692%'},\n",
       " 'AverageRecallAt': {5: '77.93077959986093%',\n",
       "  10: '60.14862507486899%',\n",
       "  20: '55.715645972995866%',\n",
       "  50: '52.54332578281564%',\n",
       "  100: '41.833934645647076%'}}"
      ]
     },
     "execution_count": 23,
     "metadata": {},
     "output_type": "execute_result"
    }
   ],
   "source": [
    "get_diff(getEvaluation(results['narrative'], judgments), getEvaluation(mlResults['narrative'], judgments))"
   ]
  },
  {
   "cell_type": "code",
   "execution_count": null,
   "id": "6d2b3ed3",
   "metadata": {},
   "outputs": [],
   "source": []
  },
  {
   "cell_type": "code",
   "execution_count": null,
   "id": "eebfb864",
   "metadata": {},
   "outputs": [],
   "source": []
  },
  {
   "cell_type": "code",
   "execution_count": null,
   "id": "7c775499",
   "metadata": {},
   "outputs": [],
   "source": []
  },
  {
   "cell_type": "code",
   "execution_count": null,
   "id": "f8f67cba",
   "metadata": {},
   "outputs": [],
   "source": []
  },
  {
   "cell_type": "code",
   "execution_count": null,
   "id": "703f0c4b",
   "metadata": {},
   "outputs": [],
   "source": []
  },
  {
   "cell_type": "code",
   "execution_count": null,
   "id": "822b87d7",
   "metadata": {},
   "outputs": [],
   "source": []
  },
  {
   "cell_type": "code",
   "execution_count": null,
   "id": "a83294cb",
   "metadata": {},
   "outputs": [],
   "source": []
  },
  {
   "cell_type": "code",
   "execution_count": null,
   "id": "1be121b1",
   "metadata": {},
   "outputs": [],
   "source": []
  },
  {
   "cell_type": "code",
   "execution_count": null,
   "id": "3c206245",
   "metadata": {},
   "outputs": [],
   "source": []
  },
  {
   "cell_type": "code",
   "execution_count": null,
   "id": "215c1ba8",
   "metadata": {},
   "outputs": [],
   "source": []
  },
  {
   "cell_type": "code",
   "execution_count": null,
   "id": "353d2a18",
   "metadata": {},
   "outputs": [],
   "source": []
  }
 ],
 "metadata": {
  "kernelspec": {
   "display_name": "Python 3 (ipykernel)",
   "language": "python",
   "name": "python3"
  },
  "language_info": {
   "codemirror_mode": {
    "name": "ipython",
    "version": 3
   },
   "file_extension": ".py",
   "mimetype": "text/x-python",
   "name": "python",
   "nbconvert_exporter": "python",
   "pygments_lexer": "ipython3",
   "version": "3.9.7"
  }
 },
 "nbformat": 4,
 "nbformat_minor": 5
}
