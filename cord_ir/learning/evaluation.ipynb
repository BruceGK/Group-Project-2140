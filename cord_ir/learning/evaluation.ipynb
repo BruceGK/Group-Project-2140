{
 "cells": [
  {
   "cell_type": "code",
   "execution_count": 1,
   "id": "76a08e88",
   "metadata": {},
   "outputs": [
    {
     "name": "stdout",
     "output_type": "stream",
     "text": [
      "/Users/mig/Desktop/pitt/projects/Group-Project-2140/cord_ir\n"
     ]
    }
   ],
   "source": [
    "cd .."
   ]
  },
  {
   "cell_type": "code",
   "execution_count": 2,
   "id": "be6dc463",
   "metadata": {},
   "outputs": [],
   "source": [
    "from search.elastic_index_reader import IndexReader\n",
    "from tqdm.notebook import trange, tqdm\n",
    "import math"
   ]
  },
  {
   "cell_type": "code",
   "execution_count": 3,
   "id": "1b7b2b8b",
   "metadata": {},
   "outputs": [],
   "source": [
    "import xml.etree.ElementTree as ET\n",
    "queryTree = ET.parse('../data/2020-07-16/eval/topics-rnd5.xml')"
   ]
  },
  {
   "cell_type": "code",
   "execution_count": 4,
   "id": "de471be9",
   "metadata": {},
   "outputs": [],
   "source": [
    "queryRoot = queryTree.getroot()\n",
    "queries = []\n",
    "for child in queryRoot:\n",
    "    query = {\n",
    "        'queryNo': child.attrib['number'],\n",
    "        'query': child.find('query').text,\n",
    "        'question': child.find('question').text,\n",
    "        'narrative': child.find('narrative').text\n",
    "    }\n",
    "    queries.append(query)"
   ]
  },
  {
   "cell_type": "code",
   "execution_count": 5,
   "id": "78fa920b",
   "metadata": {},
   "outputs": [
    {
     "name": "stderr",
     "output_type": "stream",
     "text": [
      "/opt/homebrew/Caskroom/miniforge/base/envs/info-retri/lib/python3.9/site-packages/elasticsearch/connection/base.py:209: ElasticsearchWarning: Elasticsearch built-in security features are not enabled. Without authentication, your cluster could be accessible to anyone. See https://www.elastic.co/guide/en/elasticsearch/reference/7.15/security-minimal-setup.html to enable security.\n",
      "  warnings.warn(message, category=ElasticsearchWarning)\n"
     ]
    }
   ],
   "source": [
    "reader = IndexReader()\n",
    "for query in queries:\n",
    "    query['query_tokens'] = [t['token'] for t in reader.tokenize(query['query'])['tokens']]\n",
    "    query['question_tokens'] = [t['token'] for t in reader.tokenize(query['question'])['tokens']]\n",
    "    query['narrative_tokens'] = [t['token'] for t in reader.tokenize(query['narrative'])['tokens']]"
   ]
  },
  {
   "cell_type": "code",
   "execution_count": 6,
   "id": "e8323856",
   "metadata": {},
   "outputs": [],
   "source": [
    "def getRetrievalResults(queries, field):\n",
    "    results = {}\n",
    "    for query in tqdm(queries):\n",
    "        res = reader.search(\"cord_test\", query[field], size=200, fields=[], highlight=False)\n",
    "        results[query['queryNo']] = res['hits']['hits']\n",
    "    return results"
   ]
  },
  {
   "cell_type": "code",
   "execution_count": 7,
   "id": "25bb6ba7",
   "metadata": {},
   "outputs": [
    {
     "data": {
      "application/vnd.jupyter.widget-view+json": {
       "model_id": "2453bd9e589e4710b55fffeff60a54d7",
       "version_major": 2,
       "version_minor": 0
      },
      "text/plain": [
       "  0%|          | 0/50 [00:00<?, ?it/s]"
      ]
     },
     "metadata": {},
     "output_type": "display_data"
    },
    {
     "data": {
      "application/vnd.jupyter.widget-view+json": {
       "model_id": "a8180f54ab5c4523ad79fa8602b99ba1",
       "version_major": 2,
       "version_minor": 0
      },
      "text/plain": [
       "  0%|          | 0/50 [00:00<?, ?it/s]"
      ]
     },
     "metadata": {},
     "output_type": "display_data"
    },
    {
     "data": {
      "application/vnd.jupyter.widget-view+json": {
       "model_id": "b7a90c02e4e9498f88d7c14e840c9249",
       "version_major": 2,
       "version_minor": 0
      },
      "text/plain": [
       "  0%|          | 0/50 [00:00<?, ?it/s]"
      ]
     },
     "metadata": {},
     "output_type": "display_data"
    }
   ],
   "source": [
    "queryFields = ['query', 'question', 'narrative']\n",
    "results = {f: getRetrievalResults(queries, f) for f in queryFields}"
   ]
  },
  {
   "cell_type": "code",
   "execution_count": 8,
   "id": "61a664b0",
   "metadata": {},
   "outputs": [],
   "source": [
    "# load the judgments\n",
    "judgments = {q['queryNo']: [] for q in queries}\n",
    "with open('../data/2020-07-16/eval/qrels-covid_d5_j0.5-5.txt', 'r') as qrels:\n",
    "    for line in qrels:\n",
    "        [topicId, iteration, cordId, judgment] = line.strip('\\n').split(' ')\n",
    "        judgments[topicId].append({\n",
    "            'iteration': iteration,\n",
    "            'cordId': cordId,\n",
    "            'judgment': judgment\n",
    "        })"
   ]
  },
  {
   "cell_type": "code",
   "execution_count": 9,
   "id": "031286ea",
   "metadata": {},
   "outputs": [
    {
     "data": {
      "application/vnd.jupyter.widget-view+json": {
       "model_id": "128a5985c81e4ec8ab5c5c9f0275e6fe",
       "version_major": 2,
       "version_minor": 0
      },
      "text/plain": [
       "  0%|          | 0/50 [00:00<?, ?it/s]"
      ]
     },
     "metadata": {},
     "output_type": "display_data"
    },
    {
     "data": {
      "application/vnd.jupyter.widget-view+json": {
       "model_id": "26d565d2c94c45f3ba97302254aad1b4",
       "version_major": 2,
       "version_minor": 0
      },
      "text/plain": [
       "  0%|          | 0/50 [00:00<?, ?it/s]"
      ]
     },
     "metadata": {},
     "output_type": "display_data"
    },
    {
     "data": {
      "application/vnd.jupyter.widget-view+json": {
       "model_id": "9d058e4c29f545b6bacfe7e23cf00ee9",
       "version_major": 2,
       "version_minor": 0
      },
      "text/plain": [
       "  0%|          | 0/50 [00:00<?, ?it/s]"
      ]
     },
     "metadata": {},
     "output_type": "display_data"
    }
   ],
   "source": [
    "for field in queryFields:\n",
    "    with open('../data/2020-07-16/eval/%s-result.txt'%field, 'w') as res_file:\n",
    "        fieldResults = results[field]\n",
    "        for query in tqdm(queries):\n",
    "            for (index, result) in enumerate(fieldResults[query['queryNo']]):\n",
    "                line = ' '.join([query['queryNo'], 'Q0', result['_id'], str(index + 1), str(result['_score']), field])\n",
    "                res_file.write(line + '\\n')"
   ]
  },
  {
   "cell_type": "code",
   "execution_count": 10,
   "id": "2ad566cc",
   "metadata": {},
   "outputs": [
    {
     "name": "stdout",
     "output_type": "stream",
     "text": [
      "runid                 \tall\tquery\n",
      "num_q                 \tall\t50\n",
      "num_ret               \tall\t10000\n",
      "num_rel               \tall\t26664\n",
      "num_rel_ret           \tall\t3774\n",
      "map                   \tall\t0.0938\n",
      "gm_map                \tall\t0.0542\n",
      "Rprec                 \tall\t0.1514\n",
      "bpref                 \tall\t0.1417\n",
      "recip_rank            \tall\t0.8236\n",
      "iprec_at_recall_0.00  \tall\t0.8466\n",
      "iprec_at_recall_0.10  \tall\t0.4202\n",
      "iprec_at_recall_0.20  \tall\t0.1483\n",
      "iprec_at_recall_0.30  \tall\t0.0284\n",
      "iprec_at_recall_0.40  \tall\t0.0000\n",
      "iprec_at_recall_0.50  \tall\t0.0000\n",
      "iprec_at_recall_0.60  \tall\t0.0000\n",
      "iprec_at_recall_0.70  \tall\t0.0000\n",
      "iprec_at_recall_0.80  \tall\t0.0000\n",
      "iprec_at_recall_0.90  \tall\t0.0000\n",
      "iprec_at_recall_1.00  \tall\t0.0000\n",
      "P_5                   \tall\t0.6640\n",
      "P_10                  \tall\t0.6180\n",
      "P_15                  \tall\t0.6067\n",
      "P_20                  \tall\t0.5840\n",
      "P_30                  \tall\t0.5640\n",
      "P_100                 \tall\t0.4620\n",
      "P_200                 \tall\t0.3774\n",
      "P_500                 \tall\t0.1510\n",
      "P_1000                \tall\t0.0755\n",
      "runid                 \tall\tquestion\n",
      "num_q                 \tall\t50\n",
      "num_ret               \tall\t10000\n",
      "num_rel               \tall\t26664\n",
      "num_rel_ret           \tall\t2734\n",
      "map                   \tall\t0.0585\n",
      "gm_map                \tall\t0.0272\n",
      "Rprec                 \tall\t0.1093\n",
      "bpref                 \tall\t0.1043\n",
      "recip_rank            \tall\t0.6930\n",
      "iprec_at_recall_0.00  \tall\t0.7513\n",
      "iprec_at_recall_0.10  \tall\t0.2526\n",
      "iprec_at_recall_0.20  \tall\t0.0561\n",
      "iprec_at_recall_0.30  \tall\t0.0259\n",
      "iprec_at_recall_0.40  \tall\t0.0112\n",
      "iprec_at_recall_0.50  \tall\t0.0000\n",
      "iprec_at_recall_0.60  \tall\t0.0000\n",
      "iprec_at_recall_0.70  \tall\t0.0000\n",
      "iprec_at_recall_0.80  \tall\t0.0000\n",
      "iprec_at_recall_0.90  \tall\t0.0000\n",
      "iprec_at_recall_1.00  \tall\t0.0000\n",
      "P_5                   \tall\t0.5200\n",
      "P_10                  \tall\t0.4980\n",
      "P_15                  \tall\t0.4640\n",
      "P_20                  \tall\t0.4390\n",
      "P_30                  \tall\t0.4187\n",
      "P_100                 \tall\t0.3336\n",
      "P_200                 \tall\t0.2734\n",
      "P_500                 \tall\t0.1094\n",
      "P_1000                \tall\t0.0547\n",
      "runid                 \tall\tnarrative\n",
      "num_q                 \tall\t50\n",
      "num_ret               \tall\t10000\n",
      "num_rel               \tall\t26664\n",
      "num_rel_ret           \tall\t2633\n",
      "map                   \tall\t0.0529\n",
      "gm_map                \tall\t0.0248\n",
      "Rprec                 \tall\t0.1081\n",
      "bpref                 \tall\t0.1027\n",
      "recip_rank            \tall\t0.6435\n",
      "iprec_at_recall_0.00  \tall\t0.7072\n",
      "iprec_at_recall_0.10  \tall\t0.2215\n",
      "iprec_at_recall_0.20  \tall\t0.0619\n",
      "iprec_at_recall_0.30  \tall\t0.0111\n",
      "iprec_at_recall_0.40  \tall\t0.0000\n",
      "iprec_at_recall_0.50  \tall\t0.0000\n",
      "iprec_at_recall_0.60  \tall\t0.0000\n",
      "iprec_at_recall_0.70  \tall\t0.0000\n",
      "iprec_at_recall_0.80  \tall\t0.0000\n",
      "iprec_at_recall_0.90  \tall\t0.0000\n",
      "iprec_at_recall_1.00  \tall\t0.0000\n",
      "P_5                   \tall\t0.4880\n",
      "P_10                  \tall\t0.4500\n",
      "P_15                  \tall\t0.4360\n",
      "P_20                  \tall\t0.4300\n",
      "P_30                  \tall\t0.3953\n",
      "P_100                 \tall\t0.3224\n",
      "P_200                 \tall\t0.2633\n",
      "P_500                 \tall\t0.1053\n",
      "P_1000                \tall\t0.0527\n"
     ]
    }
   ],
   "source": [
    "# use trec_eval to get evaluation\n",
    "!../data/2020-07-16/eval/trec_eval ../data/2020-07-16/eval/qrels-covid_d5_j0.5-5.txt ../data/2020-07-16/eval/query-result.txt\n",
    "!../data/2020-07-16/eval/trec_eval ../data/2020-07-16/eval/qrels-covid_d5_j0.5-5.txt ../data/2020-07-16/eval/question-result.txt\n",
    "!../data/2020-07-16/eval/trec_eval ../data/2020-07-16/eval/qrels-covid_d5_j0.5-5.txt ../data/2020-07-16/eval/narrative-result.txt"
   ]
  },
  {
   "cell_type": "code",
   "execution_count": 11,
   "id": "0c18beb1",
   "metadata": {},
   "outputs": [],
   "source": [
    "# calculate in Python\n",
    "ndcg_eval_at = [3, 5, 10, 15, 20, 25, 30, 40]\n",
    "recall_eval_at = [5, 10, 20, 50, 100]\n",
    "def getEvaluation(results, judgments):\n",
    "    queryEval = []\n",
    "    for queryNo in results:\n",
    "        # doc to relevant score\n",
    "        relMap = {}\n",
    "        # number of docs in each relevant score\n",
    "        relCount = {}\n",
    "        totalRel = 0\n",
    "        for j in judgments[queryNo]:\n",
    "            score = int(j['judgment'])\n",
    "            relMap[j['cordId']] = score\n",
    "            relCount[score] = relCount.get(score, 0) + 1\n",
    "            if score > 0:\n",
    "                totalRel += 1\n",
    "        truePositive = 0\n",
    "        falsePositive = 0\n",
    "        precisions = []\n",
    "        reciprocalRank = 0\n",
    "        cumulativeGain = 0\n",
    "        discountedCumulativeGain = 0\n",
    "        idealDCG = 0\n",
    "        dcgAt = {}\n",
    "        idcgAt = {}\n",
    "        ndcgAt = {}\n",
    "        index = 1\n",
    "        recallAt = {}\n",
    "        for score in sorted(relCount.keys(), reverse=True):\n",
    "            for i in range(relCount[score]):\n",
    "                idealDCG += (2 ** score - 1) / (math.log2(1 + index))\n",
    "                if index in ndcg_eval_at:\n",
    "                    idcgAt[index] = idealDCG\n",
    "                index += 1\n",
    "        for (index, doc) in enumerate(results[queryNo]):\n",
    "            docId = doc['_id']\n",
    "            cumulativeGain += relMap.get(docId, 0)\n",
    "            discountedCumulativeGain += (2 ** (relMap.get(docId, 0)) - 1) / (math.log2(1 + (1 + i)))\n",
    "            if relMap.get(docId, 0) > 0:\n",
    "                truePositive += 1\n",
    "                # recall increase\n",
    "                precisions.append(truePositive / (truePositive + falsePositive))\n",
    "                if reciprocalRank == 0:\n",
    "                    reciprocalRank = 1 / (index+1)\n",
    "            else:\n",
    "                falsePositive += 1\n",
    "            if index + 1 in ndcg_eval_at and (index + 1) in idcgAt:\n",
    "                dcgAt[index + 1] = discountedCumulativeGain\n",
    "                ndcgAt[index + 1] = dcgAt[index + 1] / idcgAt[index + 1]\n",
    "            if index + 1 in recall_eval_at:\n",
    "                recallAt[index + 1] = truePositive / totalRel\n",
    "        queryEval.append({\n",
    "            'AveragePrecision': sum(precisions) / totalRel,\n",
    "            'ReciprocalRank': reciprocalRank,\n",
    "            'CG': cumulativeGain,\n",
    "            'DCG': discountedCumulativeGain,\n",
    "            'IDCG': idealDCG,\n",
    "            'nDCG': discountedCumulativeGain / idealDCG,\n",
    "            'nDCGAt': ndcgAt,\n",
    "            'recallAt': recallAt\n",
    "        })\n",
    "    return {\n",
    "        'MeanAveragePrecisions': sum(map(lambda e: e['AveragePrecision'], queryEval)) / len(queryEval),\n",
    "        'MeanReciprocalRank': sum(map(lambda e: e['ReciprocalRank'], queryEval)) / len(queryEval),\n",
    "        'AverageNDCG': sum(map(lambda e: e['nDCG'], queryEval)) / len(queryEval),\n",
    "        'AverageNDCGAt': {k: sum(map(lambda e: e['nDCGAt'][k], queryEval)) / len(queryEval) for k in ndcg_eval_at},\n",
    "        'AverageRecallAt': {k: sum(map(lambda e: e['recallAt'][k], queryEval)) / len(queryEval) for k in recall_eval_at}\n",
    "    }\n",
    "            "
   ]
  },
  {
   "cell_type": "code",
   "execution_count": 12,
   "id": "66552362",
   "metadata": {},
   "outputs": [
    {
     "data": {
      "text/plain": [
       "{'MeanAveragePrecisions': 0.0938413425805633,\n",
       " 'MeanReciprocalRank': 0.8136031746031747,\n",
       " 'AverageNDCG': 0.14186232674604926,\n",
       " 'AverageNDCGAt': {3: 0.13364055103725428,\n",
       "  5: 0.1418463555798589,\n",
       "  10: 0.1680738131354743,\n",
       "  15: 0.18464160353165723,\n",
       "  20: 0.19572503874359487,\n",
       "  25: 0.20166118601071548,\n",
       "  30: 0.21199265201748066,\n",
       "  40: 0.21832616459428522},\n",
       " 'AverageRecallAt': {5: 0.007571936093659915,\n",
       "  10: 0.014347370761125028,\n",
       "  20: 0.025675868223038946,\n",
       "  50: 0.05593293689518463,\n",
       "  100: 0.09603243791764829}}"
      ]
     },
     "execution_count": 12,
     "metadata": {},
     "output_type": "execute_result"
    }
   ],
   "source": [
    "getEvaluation(results['query'], judgments)"
   ]
  },
  {
   "cell_type": "code",
   "execution_count": 13,
   "id": "a1b6d77b",
   "metadata": {},
   "outputs": [
    {
     "data": {
      "text/plain": [
       "{'MeanAveragePrecisions': 0.05846350714788746,\n",
       " 'MeanReciprocalRank': 0.6930461107519932,\n",
       " 'AverageNDCG': 0.10352932326145607,\n",
       " 'AverageNDCGAt': {3: 0.09875194087296979,\n",
       "  5: 0.11636770250055294,\n",
       "  10: 0.13835908558004478,\n",
       "  15: 0.1488085799127936,\n",
       "  20: 0.15100867206756832,\n",
       "  25: 0.15061045685942806,\n",
       "  30: 0.15584868010479463,\n",
       "  40: 0.16313228687390108},\n",
       " 'AverageRecallAt': {5: 0.005727560253085045,\n",
       "  10: 0.011274666322520223,\n",
       "  20: 0.019611381677786005,\n",
       "  50: 0.04029976874013658,\n",
       "  100: 0.06874504517191328}}"
      ]
     },
     "execution_count": 13,
     "metadata": {},
     "output_type": "execute_result"
    }
   ],
   "source": [
    "getEvaluation(results['question'], judgments)"
   ]
  },
  {
   "cell_type": "code",
   "execution_count": 14,
   "id": "b0478f03",
   "metadata": {},
   "outputs": [
    {
     "data": {
      "text/plain": [
       "{'MeanAveragePrecisions': 0.0529449798520697,\n",
       " 'MeanReciprocalRank': 0.6434796152314557,\n",
       " 'AverageNDCG': 0.10658332315533475,\n",
       " 'AverageNDCGAt': {3: 0.09286698794380803,\n",
       "  5: 0.09907587042444932,\n",
       "  10: 0.12023696099287039,\n",
       "  15: 0.1276837496201119,\n",
       "  20: 0.1381839021514124,\n",
       "  25: 0.1423471423387641,\n",
       "  30: 0.14730348405985721,\n",
       "  40: 0.15610602983947353},\n",
       " 'AverageRecallAt': {5: 0.005375328395812915,\n",
       "  10: 0.00957656146663195,\n",
       "  20: 0.01846469816821065,\n",
       "  50: 0.03979425169564572,\n",
       "  100: 0.06755924917514011}}"
      ]
     },
     "execution_count": 14,
     "metadata": {},
     "output_type": "execute_result"
    }
   ],
   "source": [
    "getEvaluation(results['narrative'], judgments)"
   ]
  },
  {
   "cell_type": "code",
   "execution_count": 15,
   "id": "8d437ce6",
   "metadata": {},
   "outputs": [],
   "source": [
    "# ML Part \n",
    "from search.ml_rank import MlRanker\n",
    "from search.data_loader import DataLoader\n",
    "ranker = MlRanker(\"../data/models/ranker.joblib\",\n",
    "                  '../data/models/tfidf.joblib',\n",
    "                  \"../data/models/docMatrix.joblib\")\n",
    "loader = DataLoader('../data/2020-07-16')\n",
    "loader.load_metadata_mappings(loader.load_metadata())"
   ]
  },
  {
   "cell_type": "code",
   "execution_count": null,
   "id": "bff2594c",
   "metadata": {},
   "outputs": [],
   "source": []
  },
  {
   "cell_type": "code",
   "execution_count": 16,
   "id": "baf83f73",
   "metadata": {},
   "outputs": [
    {
     "data": {
      "application/vnd.jupyter.widget-view+json": {
       "model_id": "c3de4a83c90c43bc8012ad66eff61ac4",
       "version_major": 2,
       "version_minor": 0
      },
      "text/plain": [
       "  0%|          | 0/50 [00:00<?, ?it/s]"
      ]
     },
     "metadata": {},
     "output_type": "display_data"
    },
    {
     "name": "stderr",
     "output_type": "stream",
     "text": [
      "/opt/homebrew/Caskroom/miniforge/base/envs/info-retri/lib/python3.9/site-packages/elasticsearch/connection/base.py:209: ElasticsearchWarning: Elasticsearch built-in security features are not enabled. Without authentication, your cluster could be accessible to anyone. See https://www.elastic.co/guide/en/elasticsearch/reference/7.15/security-minimal-setup.html to enable security.\n",
      "  warnings.warn(message, category=ElasticsearchWarning)\n",
      "/opt/homebrew/Caskroom/miniforge/base/envs/info-retri/lib/python3.9/site-packages/lightgbm/basic.py:859: UserWarning: Converting data to scipy sparse matrix.\n",
      "  _log_warning('Converting data to scipy sparse matrix.')\n"
     ]
    },
    {
     "data": {
      "application/vnd.jupyter.widget-view+json": {
       "model_id": "47457e0e40124b62becb5bc88d68c2c0",
       "version_major": 2,
       "version_minor": 0
      },
      "text/plain": [
       "  0%|          | 0/50 [00:00<?, ?it/s]"
      ]
     },
     "metadata": {},
     "output_type": "display_data"
    },
    {
     "data": {
      "application/vnd.jupyter.widget-view+json": {
       "model_id": "7d4b790c39024495bf398e0b3731cc57",
       "version_major": 2,
       "version_minor": 0
      },
      "text/plain": [
       "  0%|          | 0/50 [00:00<?, ?it/s]"
      ]
     },
     "metadata": {},
     "output_type": "display_data"
    }
   ],
   "source": [
    "def getMlRetrievalResults(queries, field):\n",
    "    results = {}\n",
    "    for query in tqdm(queries):\n",
    "        res = reader.search(\"cord_test\", query[field], size=500, fields=[], highlight=False)\n",
    "        results[query['queryNo']] = ranker.rank(query[field], res['hits']['hits'], loader)[:200]\n",
    "#         results[query['queryNo']] = ranker.whole_rank(query[field], loader, size=3000)\n",
    "    return results\n",
    "queryFields = ['query', 'question', 'narrative']\n",
    "mlResults = {f: getMlRetrievalResults(queries, f) for f in queryFields}"
   ]
  },
  {
   "cell_type": "code",
   "execution_count": 17,
   "id": "3fc33898",
   "metadata": {},
   "outputs": [
    {
     "data": {
      "text/plain": [
       "{'MeanAveragePrecisions': 0.09299413070207688,\n",
       " 'MeanReciprocalRank': 0.9005555555555556,\n",
       " 'AverageNDCG': 0.1510033853443577,\n",
       " 'AverageNDCGAt': {3: 0.17076521192384952,\n",
       "  5: 0.19119209607182744,\n",
       "  10: 0.21897900980004373,\n",
       "  15: 0.22704139463649414,\n",
       "  20: 0.2320231137172044,\n",
       "  25: 0.24043657606506613,\n",
       "  30: 0.24109911691699082,\n",
       "  40: 0.2507445424680255},\n",
       " 'AverageRecallAt': {5: 0.009840972333750742,\n",
       "  10: 0.016892999447137232,\n",
       "  20: 0.028383983823326468,\n",
       "  50: 0.0580874367030921,\n",
       "  100: 0.09589634021026726}}"
      ]
     },
     "execution_count": 17,
     "metadata": {},
     "output_type": "execute_result"
    }
   ],
   "source": [
    "getEvaluation(mlResults['query'], judgments)"
   ]
  },
  {
   "cell_type": "code",
   "execution_count": 18,
   "id": "a2981a9c",
   "metadata": {},
   "outputs": [
    {
     "data": {
      "text/plain": [
       "{'MeanAveragePrecisions': 0.07610951296701937,\n",
       " 'MeanReciprocalRank': 0.8516190476190476,\n",
       " 'AverageNDCG': 0.12900370650984513,\n",
       " 'AverageNDCGAt': {3: 0.1602245720291471,\n",
       "  5: 0.18375355205715801,\n",
       "  10: 0.20812907892037352,\n",
       "  15: 0.22309565854515345,\n",
       "  20: 0.23516075022577718,\n",
       "  25: 0.2418775318643262,\n",
       "  30: 0.24517210827474578,\n",
       "  40: 0.25250952833169743},\n",
       " 'AverageRecallAt': {5: 0.008837038253178131,\n",
       "  10: 0.015719471689018938,\n",
       "  20: 0.027212891345120723,\n",
       "  50: 0.05290005769237582,\n",
       "  100: 0.08284294530613966}}"
      ]
     },
     "execution_count": 18,
     "metadata": {},
     "output_type": "execute_result"
    }
   ],
   "source": [
    "getEvaluation(mlResults['question'], judgments)"
   ]
  },
  {
   "cell_type": "code",
   "execution_count": 19,
   "id": "aaf59880",
   "metadata": {},
   "outputs": [
    {
     "data": {
      "text/plain": [
       "{'MeanAveragePrecisions': 0.07065652269282045,\n",
       " 'MeanReciprocalRank': 0.8301515151515153,\n",
       " 'AverageNDCG': 0.12665863872964597,\n",
       " 'AverageNDCGAt': {3: 0.13615126628920626,\n",
       "  5: 0.15431081439396427,\n",
       "  10: 0.19047269842734457,\n",
       "  15: 0.19891589421806594,\n",
       "  20: 0.20955450993742747,\n",
       "  25: 0.2161980320132762,\n",
       "  30: 0.22200446992517914,\n",
       "  40: 0.22872788542225314},\n",
       " 'AverageRecallAt': {5: 0.007692296217285149,\n",
       "  10: 0.014019619731797085,\n",
       "  20: 0.02377836699468743,\n",
       "  50: 0.04796005230575103,\n",
       "  100: 0.08004549414918855}}"
      ]
     },
     "execution_count": 19,
     "metadata": {},
     "output_type": "execute_result"
    }
   ],
   "source": [
    "getEvaluation(mlResults['narrative'], judgments)"
   ]
  },
  {
   "cell_type": "code",
   "execution_count": 20,
   "id": "728b6e6e",
   "metadata": {},
   "outputs": [],
   "source": [
    "def get_diff(res1, res2):\n",
    "    res = {}\n",
    "    for key in res1.keys():\n",
    "        if isinstance(res1[key], dict):\n",
    "            res[key] = {}\n",
    "            for key2 in res1[key].keys():\n",
    "                res[key][key2] = str(((res2[key][key2] - res1[key][key2]) / res1[key][key2]) * 100) + '%'\n",
    "        else:\n",
    "            res[key] = str(((res2[key] - res1[key]) / res1[key]) * 100) + '%'\n",
    "    return res"
   ]
  },
  {
   "cell_type": "code",
   "execution_count": 21,
   "id": "c474f6d1",
   "metadata": {},
   "outputs": [
    {
     "data": {
      "text/plain": [
       "{'MeanAveragePrecisions': '-0.902813040807773%',\n",
       " 'MeanReciprocalRank': '10.68732075618939%',\n",
       " 'AverageNDCG': '6.443612485414849%',\n",
       " 'AverageNDCGAt': {3: '27.779488035967614%',\n",
       "  5: '34.78816236782841%',\n",
       "  10: '30.287405107860433%',\n",
       "  15: '22.96329228833163%',\n",
       "  20: '18.545442732629116%',\n",
       "  25: '19.227988697978937%',\n",
       "  30: '13.729940459025947%',\n",
       "  40: '14.848599540958944%'},\n",
       " 'AverageRecallAt': {5: '29.966394486487037%',\n",
       "  10: '17.74282360437581%',\n",
       "  20: '10.547318504530766%',\n",
       "  50: '3.851933990065435%',\n",
       "  100: '-0.14172055852392265%'}}"
      ]
     },
     "execution_count": 21,
     "metadata": {},
     "output_type": "execute_result"
    }
   ],
   "source": [
    "get_diff(getEvaluation(results['query'], judgments), getEvaluation(mlResults['query'], judgments))"
   ]
  },
  {
   "cell_type": "code",
   "execution_count": 22,
   "id": "e7bfcbbe",
   "metadata": {},
   "outputs": [
    {
     "data": {
      "text/plain": [
       "{'MeanAveragePrecisions': '30.18294091474042%',\n",
       " 'MeanReciprocalRank': '22.880575247005435%',\n",
       " 'AverageNDCG': '24.605959399594727%',\n",
       " 'AverageNDCGAt': {3: '62.24954224975998%',\n",
       "  5: '57.907690973176074%',\n",
       "  10: '50.426752278559086%',\n",
       "  15: '49.92123349063232%',\n",
       "  20: '55.726652652475%',\n",
       "  25: '60.598099831860985%',\n",
       "  30: '57.31420253921235%',\n",
       "  40: '54.788198688640755%'},\n",
       " 'AverageRecallAt': {5: '54.28974751366821%',\n",
       "  10: '39.422943786997756%',\n",
       "  20: '38.760704330919324%',\n",
       "  50: '31.26640510889576%',\n",
       "  100: '20.507514540097013%'}}"
      ]
     },
     "execution_count": 22,
     "metadata": {},
     "output_type": "execute_result"
    }
   ],
   "source": [
    "get_diff(getEvaluation(results['question'], judgments), getEvaluation(mlResults['question'], judgments))"
   ]
  },
  {
   "cell_type": "code",
   "execution_count": 23,
   "id": "e233df88",
   "metadata": {},
   "outputs": [
    {
     "data": {
      "text/plain": [
       "{'MeanAveragePrecisions': '33.452733177418295%',\n",
       " 'MeanReciprocalRank': '29.009761226533158%',\n",
       " 'AverageNDCG': '18.835325246008153%',\n",
       " 'AverageNDCGAt': {3: '46.608896555995436%',\n",
       "  5: '55.7501475716376%',\n",
       "  10: '58.4144316809861%',\n",
       "  15: '55.78794859164602%',\n",
       "  20: '51.64900301325408%',\n",
       "  25: '51.88083755047111%',\n",
       "  30: '50.71230075927258%',\n",
       "  40: '46.52085230625486%'},\n",
       " 'AverageRecallAt': {5: '43.103744568927624%',\n",
       "  10: '46.39513128638381%',\n",
       "  20: '28.777447527547157%',\n",
       "  50: '20.520050666008164%',\n",
       "  100: '18.481917911312458%'}}"
      ]
     },
     "execution_count": 23,
     "metadata": {},
     "output_type": "execute_result"
    }
   ],
   "source": [
    "get_diff(getEvaluation(results['narrative'], judgments), getEvaluation(mlResults['narrative'], judgments))"
   ]
  },
  {
   "cell_type": "code",
   "execution_count": null,
   "id": "6d2b3ed3",
   "metadata": {},
   "outputs": [],
   "source": []
  },
  {
   "cell_type": "code",
   "execution_count": null,
   "id": "eebfb864",
   "metadata": {},
   "outputs": [],
   "source": []
  },
  {
   "cell_type": "code",
   "execution_count": null,
   "id": "7c775499",
   "metadata": {},
   "outputs": [],
   "source": []
  },
  {
   "cell_type": "code",
   "execution_count": null,
   "id": "f8f67cba",
   "metadata": {},
   "outputs": [],
   "source": []
  },
  {
   "cell_type": "code",
   "execution_count": null,
   "id": "703f0c4b",
   "metadata": {},
   "outputs": [],
   "source": []
  },
  {
   "cell_type": "code",
   "execution_count": null,
   "id": "822b87d7",
   "metadata": {},
   "outputs": [],
   "source": []
  },
  {
   "cell_type": "code",
   "execution_count": null,
   "id": "a83294cb",
   "metadata": {},
   "outputs": [],
   "source": []
  },
  {
   "cell_type": "code",
   "execution_count": null,
   "id": "1be121b1",
   "metadata": {},
   "outputs": [],
   "source": []
  },
  {
   "cell_type": "code",
   "execution_count": null,
   "id": "3c206245",
   "metadata": {},
   "outputs": [],
   "source": []
  },
  {
   "cell_type": "code",
   "execution_count": null,
   "id": "215c1ba8",
   "metadata": {},
   "outputs": [],
   "source": []
  },
  {
   "cell_type": "code",
   "execution_count": null,
   "id": "353d2a18",
   "metadata": {},
   "outputs": [],
   "source": []
  }
 ],
 "metadata": {
  "kernelspec": {
   "display_name": "Python 3 (ipykernel)",
   "language": "python",
   "name": "python3"
  },
  "language_info": {
   "codemirror_mode": {
    "name": "ipython",
    "version": 3
   },
   "file_extension": ".py",
   "mimetype": "text/x-python",
   "name": "python",
   "nbconvert_exporter": "python",
   "pygments_lexer": "ipython3",
   "version": "3.9.7"
  }
 },
 "nbformat": 4,
 "nbformat_minor": 5
}
