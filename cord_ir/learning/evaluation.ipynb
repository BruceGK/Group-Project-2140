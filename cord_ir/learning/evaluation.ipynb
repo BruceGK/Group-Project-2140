{
 "cells": [
  {
   "cell_type": "code",
   "execution_count": 1,
   "id": "76a08e88",
   "metadata": {},
   "outputs": [
    {
     "name": "stdout",
     "output_type": "stream",
     "text": [
      "/Users/mig/Desktop/pitt/projects/Group-Project-2140/cord_ir\n"
     ]
    }
   ],
   "source": [
    "cd .."
   ]
  },
  {
   "cell_type": "code",
   "execution_count": 2,
   "id": "be6dc463",
   "metadata": {},
   "outputs": [],
   "source": [
    "from search.elastic_index_reader import IndexReader\n",
    "from tqdm.notebook import trange, tqdm\n",
    "import math"
   ]
  },
  {
   "cell_type": "code",
   "execution_count": 3,
   "id": "1b7b2b8b",
   "metadata": {},
   "outputs": [],
   "source": [
    "import xml.etree.ElementTree as ET\n",
    "queryTree = ET.parse('../data/2020-07-16/eval/topics-rnd5.xml')"
   ]
  },
  {
   "cell_type": "code",
   "execution_count": 4,
   "id": "de471be9",
   "metadata": {},
   "outputs": [],
   "source": [
    "queryRoot = queryTree.getroot()\n",
    "queries = []\n",
    "for child in queryRoot:\n",
    "    query = {\n",
    "        'queryNo': child.attrib['number'],\n",
    "        'query': child.find('query').text,\n",
    "        'question': child.find('question').text,\n",
    "        'narrative': child.find('narrative').text\n",
    "    }\n",
    "    queries.append(query)"
   ]
  },
  {
   "cell_type": "code",
   "execution_count": 5,
   "id": "78fa920b",
   "metadata": {},
   "outputs": [
    {
     "name": "stderr",
     "output_type": "stream",
     "text": [
      "/opt/homebrew/Caskroom/miniforge/base/envs/info-retri/lib/python3.9/site-packages/elasticsearch/connection/base.py:209: ElasticsearchWarning: Elasticsearch built-in security features are not enabled. Without authentication, your cluster could be accessible to anyone. See https://www.elastic.co/guide/en/elasticsearch/reference/7.15/security-minimal-setup.html to enable security.\n",
      "  warnings.warn(message, category=ElasticsearchWarning)\n"
     ]
    }
   ],
   "source": [
    "reader = IndexReader()\n",
    "for query in queries:\n",
    "    query['query_tokens'] = [t['token'] for t in reader.tokenize(query['query'])['tokens']]\n",
    "    query['question_tokens'] = [t['token'] for t in reader.tokenize(query['question'])['tokens']]\n",
    "    query['narrative_tokens'] = [t['token'] for t in reader.tokenize(query['narrative'])['tokens']]"
   ]
  },
  {
   "cell_type": "code",
   "execution_count": 6,
   "id": "e8323856",
   "metadata": {},
   "outputs": [],
   "source": [
    "def getRetrievalResults(queries, field):\n",
    "    results = {}\n",
    "    for query in tqdm(queries):\n",
    "        res = reader.search(\"cord_test\", query[field], size=200, fields=[], highlight=False)\n",
    "        results[query['queryNo']] = res['hits']['hits']\n",
    "    return results"
   ]
  },
  {
   "cell_type": "code",
   "execution_count": 7,
   "id": "25bb6ba7",
   "metadata": {},
   "outputs": [
    {
     "data": {
      "application/vnd.jupyter.widget-view+json": {
       "model_id": "8e75e01b61404b8ababc36d437f58265",
       "version_major": 2,
       "version_minor": 0
      },
      "text/plain": [
       "  0%|          | 0/50 [00:00<?, ?it/s]"
      ]
     },
     "metadata": {},
     "output_type": "display_data"
    },
    {
     "data": {
      "application/vnd.jupyter.widget-view+json": {
       "model_id": "eabfd51b838241efb00613cbfacb280a",
       "version_major": 2,
       "version_minor": 0
      },
      "text/plain": [
       "  0%|          | 0/50 [00:00<?, ?it/s]"
      ]
     },
     "metadata": {},
     "output_type": "display_data"
    },
    {
     "data": {
      "application/vnd.jupyter.widget-view+json": {
       "model_id": "bb13707188164a71a0239626ad97b432",
       "version_major": 2,
       "version_minor": 0
      },
      "text/plain": [
       "  0%|          | 0/50 [00:00<?, ?it/s]"
      ]
     },
     "metadata": {},
     "output_type": "display_data"
    }
   ],
   "source": [
    "queryFields = ['query', 'question', 'narrative']\n",
    "results = {f: getRetrievalResults(queries, f) for f in queryFields}"
   ]
  },
  {
   "cell_type": "code",
   "execution_count": 8,
   "id": "61a664b0",
   "metadata": {},
   "outputs": [],
   "source": [
    "# load the judgments\n",
    "judgments = {q['queryNo']: [] for q in queries}\n",
    "with open('../data/2020-07-16/eval/qrels-covid_d5_j0.5-5.txt', 'r') as qrels:\n",
    "    for line in qrels:\n",
    "        [topicId, iteration, cordId, judgment] = line.strip('\\n').split(' ')\n",
    "        judgments[topicId].append({\n",
    "            'iteration': iteration,\n",
    "            'cordId': cordId,\n",
    "            'judgment': judgment\n",
    "        })"
   ]
  },
  {
   "cell_type": "code",
   "execution_count": 9,
   "id": "031286ea",
   "metadata": {},
   "outputs": [
    {
     "data": {
      "application/vnd.jupyter.widget-view+json": {
       "model_id": "58db6d117b90463d92af9dc081d198d6",
       "version_major": 2,
       "version_minor": 0
      },
      "text/plain": [
       "  0%|          | 0/50 [00:00<?, ?it/s]"
      ]
     },
     "metadata": {},
     "output_type": "display_data"
    },
    {
     "data": {
      "application/vnd.jupyter.widget-view+json": {
       "model_id": "dae6b5a75f9d4f9abfac708eb8927e8f",
       "version_major": 2,
       "version_minor": 0
      },
      "text/plain": [
       "  0%|          | 0/50 [00:00<?, ?it/s]"
      ]
     },
     "metadata": {},
     "output_type": "display_data"
    },
    {
     "data": {
      "application/vnd.jupyter.widget-view+json": {
       "model_id": "fa4133707f55419f83fa3141021f9d45",
       "version_major": 2,
       "version_minor": 0
      },
      "text/plain": [
       "  0%|          | 0/50 [00:00<?, ?it/s]"
      ]
     },
     "metadata": {},
     "output_type": "display_data"
    }
   ],
   "source": [
    "for field in queryFields:\n",
    "    with open('../data/2020-07-16/eval/%s-result.txt'%field, 'w') as res_file:\n",
    "        fieldResults = results[field]\n",
    "        for query in tqdm(queries):\n",
    "            for (index, result) in enumerate(fieldResults[query['queryNo']]):\n",
    "                line = ' '.join([query['queryNo'], 'Q0', result['_id'], str(index + 1), str(result['_score']), field])\n",
    "                res_file.write(line + '\\n')"
   ]
  },
  {
   "cell_type": "code",
   "execution_count": 10,
   "id": "2ad566cc",
   "metadata": {},
   "outputs": [
    {
     "name": "stdout",
     "output_type": "stream",
     "text": [
      "runid                 \tall\tquery\n",
      "num_q                 \tall\t50\n",
      "num_ret               \tall\t10000\n",
      "num_rel               \tall\t26664\n",
      "num_rel_ret           \tall\t3774\n",
      "map                   \tall\t0.0938\n",
      "gm_map                \tall\t0.0542\n",
      "Rprec                 \tall\t0.1514\n",
      "bpref                 \tall\t0.1417\n",
      "recip_rank            \tall\t0.8236\n",
      "iprec_at_recall_0.00  \tall\t0.8466\n",
      "iprec_at_recall_0.10  \tall\t0.4202\n",
      "iprec_at_recall_0.20  \tall\t0.1483\n",
      "iprec_at_recall_0.30  \tall\t0.0284\n",
      "iprec_at_recall_0.40  \tall\t0.0000\n",
      "iprec_at_recall_0.50  \tall\t0.0000\n",
      "iprec_at_recall_0.60  \tall\t0.0000\n",
      "iprec_at_recall_0.70  \tall\t0.0000\n",
      "iprec_at_recall_0.80  \tall\t0.0000\n",
      "iprec_at_recall_0.90  \tall\t0.0000\n",
      "iprec_at_recall_1.00  \tall\t0.0000\n",
      "P_5                   \tall\t0.6640\n",
      "P_10                  \tall\t0.6180\n",
      "P_15                  \tall\t0.6067\n",
      "P_20                  \tall\t0.5840\n",
      "P_30                  \tall\t0.5640\n",
      "P_100                 \tall\t0.4620\n",
      "P_200                 \tall\t0.3774\n",
      "P_500                 \tall\t0.1510\n",
      "P_1000                \tall\t0.0755\n",
      "runid                 \tall\tquestion\n",
      "num_q                 \tall\t50\n",
      "num_ret               \tall\t10000\n",
      "num_rel               \tall\t26664\n",
      "num_rel_ret           \tall\t2734\n",
      "map                   \tall\t0.0585\n",
      "gm_map                \tall\t0.0272\n",
      "Rprec                 \tall\t0.1093\n",
      "bpref                 \tall\t0.1043\n",
      "recip_rank            \tall\t0.6930\n",
      "iprec_at_recall_0.00  \tall\t0.7513\n",
      "iprec_at_recall_0.10  \tall\t0.2526\n",
      "iprec_at_recall_0.20  \tall\t0.0561\n",
      "iprec_at_recall_0.30  \tall\t0.0259\n",
      "iprec_at_recall_0.40  \tall\t0.0112\n",
      "iprec_at_recall_0.50  \tall\t0.0000\n",
      "iprec_at_recall_0.60  \tall\t0.0000\n",
      "iprec_at_recall_0.70  \tall\t0.0000\n",
      "iprec_at_recall_0.80  \tall\t0.0000\n",
      "iprec_at_recall_0.90  \tall\t0.0000\n",
      "iprec_at_recall_1.00  \tall\t0.0000\n",
      "P_5                   \tall\t0.5200\n",
      "P_10                  \tall\t0.4980\n",
      "P_15                  \tall\t0.4640\n",
      "P_20                  \tall\t0.4390\n",
      "P_30                  \tall\t0.4187\n",
      "P_100                 \tall\t0.3336\n",
      "P_200                 \tall\t0.2734\n",
      "P_500                 \tall\t0.1094\n",
      "P_1000                \tall\t0.0547\n",
      "runid                 \tall\tnarrative\n",
      "num_q                 \tall\t50\n",
      "num_ret               \tall\t10000\n",
      "num_rel               \tall\t26664\n",
      "num_rel_ret           \tall\t2633\n",
      "map                   \tall\t0.0529\n",
      "gm_map                \tall\t0.0248\n",
      "Rprec                 \tall\t0.1081\n",
      "bpref                 \tall\t0.1027\n",
      "recip_rank            \tall\t0.6435\n",
      "iprec_at_recall_0.00  \tall\t0.7072\n",
      "iprec_at_recall_0.10  \tall\t0.2215\n",
      "iprec_at_recall_0.20  \tall\t0.0619\n",
      "iprec_at_recall_0.30  \tall\t0.0111\n",
      "iprec_at_recall_0.40  \tall\t0.0000\n",
      "iprec_at_recall_0.50  \tall\t0.0000\n",
      "iprec_at_recall_0.60  \tall\t0.0000\n",
      "iprec_at_recall_0.70  \tall\t0.0000\n",
      "iprec_at_recall_0.80  \tall\t0.0000\n",
      "iprec_at_recall_0.90  \tall\t0.0000\n",
      "iprec_at_recall_1.00  \tall\t0.0000\n",
      "P_5                   \tall\t0.4880\n",
      "P_10                  \tall\t0.4500\n",
      "P_15                  \tall\t0.4360\n",
      "P_20                  \tall\t0.4300\n",
      "P_30                  \tall\t0.3953\n",
      "P_100                 \tall\t0.3224\n",
      "P_200                 \tall\t0.2633\n",
      "P_500                 \tall\t0.1053\n",
      "P_1000                \tall\t0.0527\n"
     ]
    }
   ],
   "source": [
    "# use trec_eval to get evaluation\n",
    "!../data/2020-07-16/eval/trec_eval ../data/2020-07-16/eval/qrels-covid_d5_j0.5-5.txt ../data/2020-07-16/eval/query-result.txt\n",
    "!../data/2020-07-16/eval/trec_eval ../data/2020-07-16/eval/qrels-covid_d5_j0.5-5.txt ../data/2020-07-16/eval/question-result.txt\n",
    "!../data/2020-07-16/eval/trec_eval ../data/2020-07-16/eval/qrels-covid_d5_j0.5-5.txt ../data/2020-07-16/eval/narrative-result.txt"
   ]
  },
  {
   "cell_type": "code",
   "execution_count": 35,
   "id": "0c18beb1",
   "metadata": {},
   "outputs": [],
   "source": [
    "# calculate in Python\n",
    "ndcg_eval_at = [3, 5, 10, 15, 20, 25, 30]\n",
    "recall_eval_at = [5, 10, 20, 50, 100, 150]\n",
    "def getEvaluation(results, judgments):\n",
    "    queryEval = []\n",
    "    for queryNo in results:\n",
    "        # doc to relevant score\n",
    "        relMap = {}\n",
    "        # number of docs in each relevant score\n",
    "        relCount = {}\n",
    "        totalRel = 0\n",
    "        for j in judgments[queryNo]:\n",
    "            score = int(j['judgment'])\n",
    "            relMap[j['cordId']] = score\n",
    "            relCount[score] = relCount.get(score, 0) + 1\n",
    "            if score > 0:\n",
    "                totalRel += 1\n",
    "        truePositive = 0\n",
    "        falsePositive = 0\n",
    "        precisions = []\n",
    "        reciprocalRank = 0\n",
    "        cumulativeGain = 0\n",
    "        discountedCumulativeGain = 0\n",
    "        idealDCG = 0\n",
    "        dcgAt = {}\n",
    "        idcgAt = {}\n",
    "        ndcgAt = {}\n",
    "        index = 1\n",
    "        recallAt = {}\n",
    "        for score in sorted(relCount.keys(), reverse=True):\n",
    "            for i in range(relCount[score]):\n",
    "                idealDCG += (2 ** score - 1) / (math.log2(1 + index))\n",
    "                if index in ndcg_eval_at:\n",
    "                    idcgAt[index] = idealDCG\n",
    "                index += 1\n",
    "        for (index, doc) in enumerate(results[queryNo]):\n",
    "            docId = doc['_id']\n",
    "            cumulativeGain += relMap.get(docId, 0)\n",
    "            discountedCumulativeGain += (2 ** (relMap.get(docId, 0)) - 1) / (math.log2(1 + (1 + i)))\n",
    "            if relMap.get(docId, 0) > 0:\n",
    "                truePositive += 1\n",
    "                # recall increase\n",
    "                precisions.append(truePositive / (truePositive + falsePositive))\n",
    "                if reciprocalRank == 0:\n",
    "                    reciprocalRank = 1 / (index+1)\n",
    "            else:\n",
    "                falsePositive += 1\n",
    "            if index + 1 in ndcg_eval_at and (index + 1) in idcgAt:\n",
    "                dcgAt[index + 1] = discountedCumulativeGain\n",
    "                ndcgAt[index + 1] = dcgAt[index + 1] / idcgAt[index + 1]\n",
    "            if index + 1 in recall_eval_at:\n",
    "                recallAt[index + 1] = truePositive / totalRel\n",
    "        queryEval.append({\n",
    "            'AveragePrecision': sum(precisions) / totalRel,\n",
    "            'ReciprocalRank': reciprocalRank,\n",
    "            'CG': cumulativeGain,\n",
    "            'DCG': discountedCumulativeGain,\n",
    "            'IDCG': idealDCG,\n",
    "            'nDCG': discountedCumulativeGain / idealDCG,\n",
    "            'nDCGAt': ndcgAt,\n",
    "            'recallAt': recallAt\n",
    "        })\n",
    "    return {\n",
    "        'MeanAveragePrecisions': sum(map(lambda e: e['AveragePrecision'], queryEval)) / len(queryEval),\n",
    "        'MeanReciprocalRank': sum(map(lambda e: e['ReciprocalRank'], queryEval)) / len(queryEval),\n",
    "        'AverageNDCG': sum(map(lambda e: e['nDCG'], queryEval)) / len(queryEval),\n",
    "        'AverageNDCGAt': {k: sum(map(lambda e: e['nDCGAt'][k], queryEval)) / len(queryEval) for k in ndcg_eval_at},\n",
    "        'AverageRecallAt': {k: sum(map(lambda e: e['recallAt'][k], queryEval)) / len(queryEval) for k in recall_eval_at}\n",
    "    }\n",
    "            "
   ]
  },
  {
   "cell_type": "code",
   "execution_count": 12,
   "id": "66552362",
   "metadata": {},
   "outputs": [
    {
     "data": {
      "text/plain": [
       "{'MeanAveragePrecisions': 0.0938413425805633,\n",
       " 'MeanReciprocalRank': 0.8136031746031747,\n",
       " 'AverageNDCG': 0.14186232674604926,\n",
       " 'AverageNDCGAt': {3: 0.13364055103725428,\n",
       "  5: 0.1418463555798589,\n",
       "  10: 0.1680738131354743,\n",
       "  15: 0.18464160353165723,\n",
       "  20: 0.19572503874359487,\n",
       "  25: 0.20166118601071548,\n",
       "  30: 0.21199265201748066},\n",
       " 'AverageRecallAt': {5: 0.007571936093659915,\n",
       "  10: 0.014347370761125028,\n",
       "  20: 0.025675868223038946,\n",
       "  50: 0.05593293689518463,\n",
       "  100: 0.09603243791764829,\n",
       "  150: 0.12785061256462518}}"
      ]
     },
     "execution_count": 12,
     "metadata": {},
     "output_type": "execute_result"
    }
   ],
   "source": [
    "getEvaluation(results['query'], judgments)"
   ]
  },
  {
   "cell_type": "code",
   "execution_count": 13,
   "id": "a1b6d77b",
   "metadata": {},
   "outputs": [
    {
     "data": {
      "text/plain": [
       "{'MeanAveragePrecisions': 0.05846350714788746,\n",
       " 'MeanReciprocalRank': 0.6930461107519932,\n",
       " 'AverageNDCG': 0.10352932326145607,\n",
       " 'AverageNDCGAt': {3: 0.09875194087296979,\n",
       "  5: 0.11636770250055294,\n",
       "  10: 0.13835908558004478,\n",
       "  15: 0.1488085799127936,\n",
       "  20: 0.15100867206756832,\n",
       "  25: 0.15061045685942806,\n",
       "  30: 0.15584868010479463},\n",
       " 'AverageRecallAt': {5: 0.005727560253085045,\n",
       "  10: 0.011274666322520223,\n",
       "  20: 0.019611381677786005,\n",
       "  50: 0.04029976874013658,\n",
       "  100: 0.06874504517191328,\n",
       "  150: 0.09178983181898402}}"
      ]
     },
     "execution_count": 13,
     "metadata": {},
     "output_type": "execute_result"
    }
   ],
   "source": [
    "getEvaluation(results['question'], judgments)"
   ]
  },
  {
   "cell_type": "code",
   "execution_count": 14,
   "id": "b0478f03",
   "metadata": {},
   "outputs": [
    {
     "data": {
      "text/plain": [
       "{'MeanAveragePrecisions': 0.0529449798520697,\n",
       " 'MeanReciprocalRank': 0.6434796152314557,\n",
       " 'AverageNDCG': 0.10658332315533475,\n",
       " 'AverageNDCGAt': {3: 0.09286698794380803,\n",
       "  5: 0.09907587042444932,\n",
       "  10: 0.12023696099287039,\n",
       "  15: 0.1276837496201119,\n",
       "  20: 0.1381839021514124,\n",
       "  25: 0.1423471423387641,\n",
       "  30: 0.14730348405985721},\n",
       " 'AverageRecallAt': {5: 0.005375328395812915,\n",
       "  10: 0.00957656146663195,\n",
       "  20: 0.01846469816821065,\n",
       "  50: 0.03979425169564572,\n",
       "  100: 0.06755924917514011,\n",
       "  150: 0.08948080605363223}}"
      ]
     },
     "execution_count": 14,
     "metadata": {},
     "output_type": "execute_result"
    }
   ],
   "source": [
    "getEvaluation(results['narrative'], judgments)"
   ]
  },
  {
   "cell_type": "code",
   "execution_count": 26,
   "id": "8d437ce6",
   "metadata": {},
   "outputs": [],
   "source": [
    "# ML Part \n",
    "from search.ml_rank import MlRanker\n",
    "from search.data_loader import DataLoader\n",
    "ranker = MlRanker(\"../data/models/ranker.joblib\",\n",
    "                  '../data/models/tfidf.joblib',\n",
    "                  \"../data/models/docMatrix.joblib\")\n",
    "loader = DataLoader('../data/2020-07-16')\n",
    "loader.load_metadata_mappings(loader.load_metadata())"
   ]
  },
  {
   "cell_type": "code",
   "execution_count": null,
   "id": "bff2594c",
   "metadata": {},
   "outputs": [],
   "source": []
  },
  {
   "cell_type": "code",
   "execution_count": 27,
   "id": "baf83f73",
   "metadata": {},
   "outputs": [
    {
     "data": {
      "application/vnd.jupyter.widget-view+json": {
       "model_id": "981637480e334a7b9d9ce2b30b88070f",
       "version_major": 2,
       "version_minor": 0
      },
      "text/plain": [
       "  0%|          | 0/50 [00:00<?, ?it/s]"
      ]
     },
     "metadata": {},
     "output_type": "display_data"
    },
    {
     "data": {
      "application/vnd.jupyter.widget-view+json": {
       "model_id": "028d06b0380e451b83929ddf819e3ba2",
       "version_major": 2,
       "version_minor": 0
      },
      "text/plain": [
       "  0%|          | 0/50 [00:00<?, ?it/s]"
      ]
     },
     "metadata": {},
     "output_type": "display_data"
    },
    {
     "data": {
      "application/vnd.jupyter.widget-view+json": {
       "model_id": "87aa03ec95a0454d8fde321429ad1e59",
       "version_major": 2,
       "version_minor": 0
      },
      "text/plain": [
       "  0%|          | 0/50 [00:00<?, ?it/s]"
      ]
     },
     "metadata": {},
     "output_type": "display_data"
    }
   ],
   "source": [
    "def getMlRetrievalResults(queries, field):\n",
    "    results = {}\n",
    "    for query in tqdm(queries):\n",
    "        res = reader.search(\"cord_test\", query[field], size=400, fields=[], highlight=False)\n",
    "        results[query['queryNo']] = ranker.rank(query[field], res['hits']['hits'], loader)[:200]\n",
    "#         results[query['queryNo']] = ranker.whole_rank(query[field], loader, size=3000)\n",
    "    return results\n",
    "queryFields = ['query', 'question', 'narrative']\n",
    "mlResults = {f: getMlRetrievalResults(queries, f) for f in queryFields}"
   ]
  },
  {
   "cell_type": "code",
   "execution_count": 36,
   "id": "3fc33898",
   "metadata": {},
   "outputs": [
    {
     "data": {
      "text/plain": [
       "{'MeanAveragePrecisions': 0.09754285722689846,\n",
       " 'MeanReciprocalRank': 0.8740197483675743,\n",
       " 'AverageNDCG': 0.15104653827727005,\n",
       " 'AverageNDCGAt': {3: 0.16892479481067557,\n",
       "  5: 0.18782455577724325,\n",
       "  10: 0.21788512612649186,\n",
       "  15: 0.22770403153041194,\n",
       "  20: 0.2417994182563755,\n",
       "  25: 0.2476971871220725,\n",
       "  30: 0.24971336721201381},\n",
       " 'AverageRecallAt': {5: 0.009647913174943519,\n",
       "  10: 0.01687878994647765,\n",
       "  20: 0.029313361404363896,\n",
       "  50: 0.05986309074625796,\n",
       "  100: 0.09821988546152953,\n",
       "  150: 0.1298758285001646}}"
      ]
     },
     "execution_count": 36,
     "metadata": {},
     "output_type": "execute_result"
    }
   ],
   "source": [
    "getEvaluation(mlResults['query'], judgments)"
   ]
  },
  {
   "cell_type": "code",
   "execution_count": 37,
   "id": "a2981a9c",
   "metadata": {},
   "outputs": [
    {
     "data": {
      "text/plain": [
       "{'MeanAveragePrecisions': 0.07524073913386099,\n",
       " 'MeanReciprocalRank': 0.8668431372549018,\n",
       " 'AverageNDCG': 0.12799153666405216,\n",
       " 'AverageNDCGAt': {3: 0.1590133984955591,\n",
       "  5: 0.18194284465784655,\n",
       "  10: 0.2045261334924703,\n",
       "  15: 0.22129992802537024,\n",
       "  20: 0.2326832815309929,\n",
       "  25: 0.23865599572551563,\n",
       "  30: 0.2424065307072679},\n",
       " 'AverageRecallAt': {5: 0.0089174591424478,\n",
       "  10: 0.0155464485399609,\n",
       "  20: 0.027169630125022604,\n",
       "  50: 0.052452607077066116,\n",
       "  100: 0.08294633970464638,\n",
       "  150: 0.10545998922417661}}"
      ]
     },
     "execution_count": 37,
     "metadata": {},
     "output_type": "execute_result"
    }
   ],
   "source": [
    "getEvaluation(mlResults['question'], judgments)"
   ]
  },
  {
   "cell_type": "code",
   "execution_count": 38,
   "id": "aaf59880",
   "metadata": {},
   "outputs": [
    {
     "data": {
      "text/plain": [
       "{'MeanAveragePrecisions': 0.07335848683946339,\n",
       " 'MeanReciprocalRank': 0.8372222222222223,\n",
       " 'AverageNDCG': 0.12672902113658038,\n",
       " 'AverageNDCGAt': {3: 0.1344476147594284,\n",
       "  5: 0.1598113561731201,\n",
       "  10: 0.1952501663401587,\n",
       "  15: 0.20411586099207513,\n",
       "  20: 0.2178886029231166,\n",
       "  25: 0.22479251984292542,\n",
       "  30: 0.22801644403485963},\n",
       " 'AverageRecallAt': {5: 0.00809828584854587,\n",
       "  10: 0.014198610575236983,\n",
       "  20: 0.024856629988496956,\n",
       "  50: 0.049210911679684194,\n",
       "  100: 0.08249535002786873,\n",
       "  150: 0.10796258061617346}}"
      ]
     },
     "execution_count": 38,
     "metadata": {},
     "output_type": "execute_result"
    }
   ],
   "source": [
    "getEvaluation(mlResults['narrative'], judgments)"
   ]
  },
  {
   "cell_type": "code",
   "execution_count": 39,
   "id": "728b6e6e",
   "metadata": {},
   "outputs": [],
   "source": [
    "def get_diff(res1, res2):\n",
    "    res = {}\n",
    "    for key in res1.keys():\n",
    "        if isinstance(res1[key], dict):\n",
    "            res[key] = {}\n",
    "            for key2 in res1[key].keys():\n",
    "                res[key][key2] = str(((res2[key][key2] - res1[key][key2]) / res1[key][key2]) * 100) + '%'\n",
    "        else:\n",
    "            res[key] = str(((res2[key] - res1[key]) / res1[key]) * 100) + '%'\n",
    "    return res"
   ]
  },
  {
   "cell_type": "code",
   "execution_count": 40,
   "id": "c474f6d1",
   "metadata": {},
   "outputs": [
    {
     "data": {
      "text/plain": [
       "{'MeanAveragePrecisions': '3.94443914009157%',\n",
       " 'MeanReciprocalRank': '7.425803592011198%',\n",
       " 'AverageNDCG': '6.474031366806522%',\n",
       " 'AverageNDCGAt': {3: '26.40234831386267%',\n",
       "  5: '32.41408636085742%',\n",
       "  10: '29.63656982713163%',\n",
       "  15: '23.322169638421467%',\n",
       "  20: '23.540360399743903%',\n",
       "  25: '22.82838954884995%',\n",
       "  30: '17.793406910831393%'},\n",
       " 'AverageRecallAt': {5: '27.416727447314926%',\n",
       "  10: '17.64378454770013%',\n",
       "  20: '14.166972465067525%',\n",
       "  50: '7.026546555991203%',\n",
       "  100: '2.2778215270938618%',\n",
       "  150: '1.5840486759621322%'}}"
      ]
     },
     "execution_count": 40,
     "metadata": {},
     "output_type": "execute_result"
    }
   ],
   "source": [
    "get_diff(getEvaluation(results['query'], judgments), getEvaluation(mlResults['query'], judgments))"
   ]
  },
  {
   "cell_type": "code",
   "execution_count": 41,
   "id": "e7bfcbbe",
   "metadata": {},
   "outputs": [
    {
     "data": {
      "text/plain": [
       "{'MeanAveragePrecisions': '28.696930451904596%',\n",
       " 'MeanReciprocalRank': '25.077267415054%',\n",
       " 'AverageNDCG': '23.628294508231722%',\n",
       " 'AverageNDCGAt': {3: '61.02306151137529%',\n",
       "  5: '56.35166867454655%',\n",
       "  10: '47.82269818785841%',\n",
       "  15: '48.71449492701215%',\n",
       "  20: '54.08603912951408%',\n",
       "  25: '58.45911412928299%',\n",
       "  30: '55.53967511580507%'},\n",
       " 'AverageRecallAt': {5: '55.693851280649106%',\n",
       "  10: '37.888324986684005%',\n",
       "  20: '38.54011191775385%',\n",
       "  50: '30.156099443880713%',\n",
       "  100: '20.65791723202653%',\n",
       "  150: '14.892888606824226%'}}"
      ]
     },
     "execution_count": 41,
     "metadata": {},
     "output_type": "execute_result"
    }
   ],
   "source": [
    "get_diff(getEvaluation(results['question'], judgments), getEvaluation(mlResults['question'], judgments))"
   ]
  },
  {
   "cell_type": "code",
   "execution_count": 42,
   "id": "e233df88",
   "metadata": {},
   "outputs": [
    {
     "data": {
      "text/plain": [
       "{'MeanAveragePrecisions': '38.55607659957527%',\n",
       " 'MeanReciprocalRank': '30.108585012608142%',\n",
       " 'AverageNDCG': '18.90136034873415%',\n",
       " 'AverageNDCGAt': {3: '44.77438941034675%',\n",
       "  5: '61.301995620603556%',\n",
       "  10: '62.38780881341165%',\n",
       "  15: '59.86048467355173%',\n",
       "  20: '57.68016355795863%',\n",
       "  25: '57.918533628131506%',\n",
       "  30: '54.793653042316684%'},\n",
       " 'AverageRecallAt': {5: '50.65657857953364%',\n",
       "  10: '48.264182553517266%',\n",
       "  20: '34.617039293341065%',\n",
       "  50: '23.663367403058484%',\n",
       "  100: '22.108151045326714%',\n",
       "  150: '20.65445694740812%'}}"
      ]
     },
     "execution_count": 42,
     "metadata": {},
     "output_type": "execute_result"
    }
   ],
   "source": [
    "get_diff(getEvaluation(results['narrative'], judgments), getEvaluation(mlResults['narrative'], judgments))"
   ]
  },
  {
   "cell_type": "code",
   "execution_count": null,
   "id": "6d2b3ed3",
   "metadata": {},
   "outputs": [],
   "source": []
  },
  {
   "cell_type": "code",
   "execution_count": null,
   "id": "eebfb864",
   "metadata": {},
   "outputs": [],
   "source": []
  },
  {
   "cell_type": "code",
   "execution_count": null,
   "id": "7c775499",
   "metadata": {},
   "outputs": [],
   "source": []
  },
  {
   "cell_type": "code",
   "execution_count": null,
   "id": "f8f67cba",
   "metadata": {},
   "outputs": [],
   "source": []
  },
  {
   "cell_type": "code",
   "execution_count": null,
   "id": "703f0c4b",
   "metadata": {},
   "outputs": [],
   "source": []
  },
  {
   "cell_type": "code",
   "execution_count": null,
   "id": "822b87d7",
   "metadata": {},
   "outputs": [],
   "source": []
  },
  {
   "cell_type": "code",
   "execution_count": null,
   "id": "a83294cb",
   "metadata": {},
   "outputs": [],
   "source": []
  },
  {
   "cell_type": "code",
   "execution_count": null,
   "id": "1be121b1",
   "metadata": {},
   "outputs": [],
   "source": []
  },
  {
   "cell_type": "code",
   "execution_count": null,
   "id": "3c206245",
   "metadata": {},
   "outputs": [],
   "source": []
  },
  {
   "cell_type": "code",
   "execution_count": null,
   "id": "215c1ba8",
   "metadata": {},
   "outputs": [],
   "source": []
  },
  {
   "cell_type": "code",
   "execution_count": null,
   "id": "353d2a18",
   "metadata": {},
   "outputs": [],
   "source": []
  }
 ],
 "metadata": {
  "kernelspec": {
   "display_name": "Python 3 (ipykernel)",
   "language": "python",
   "name": "python3"
  },
  "language_info": {
   "codemirror_mode": {
    "name": "ipython",
    "version": 3
   },
   "file_extension": ".py",
   "mimetype": "text/x-python",
   "name": "python",
   "nbconvert_exporter": "python",
   "pygments_lexer": "ipython3",
   "version": "3.9.7"
  }
 },
 "nbformat": 4,
 "nbformat_minor": 5
}
