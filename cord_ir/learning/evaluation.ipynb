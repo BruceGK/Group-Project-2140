{
 "cells": [
  {
   "cell_type": "code",
   "execution_count": 1,
   "id": "76a08e88",
   "metadata": {},
   "outputs": [
    {
     "name": "stdout",
     "output_type": "stream",
     "text": [
      "/Users/mig/Desktop/pitt/projects/Group-Project-2140/cord_ir\n"
     ]
    }
   ],
   "source": [
    "cd .."
   ]
  },
  {
   "cell_type": "code",
   "execution_count": 2,
   "id": "be6dc463",
   "metadata": {},
   "outputs": [],
   "source": [
    "from search.elastic_index_reader import IndexReader\n",
    "from tqdm.notebook import trange, tqdm\n",
    "import math"
   ]
  },
  {
   "cell_type": "code",
   "execution_count": 3,
   "id": "1b7b2b8b",
   "metadata": {},
   "outputs": [],
   "source": [
    "import xml.etree.ElementTree as ET\n",
    "queryTree = ET.parse('../data/2020-07-16/eval/topics-rnd5.xml')"
   ]
  },
  {
   "cell_type": "code",
   "execution_count": 4,
   "id": "de471be9",
   "metadata": {},
   "outputs": [],
   "source": [
    "queryRoot = queryTree.getroot()\n",
    "queries = []\n",
    "for child in queryRoot:\n",
    "    query = {\n",
    "        'queryNo': child.attrib['number'],\n",
    "        'query': child.find('query').text,\n",
    "        'question': child.find('question').text,\n",
    "        'narrative': child.find('narrative').text\n",
    "    }\n",
    "    queries.append(query)"
   ]
  },
  {
   "cell_type": "code",
   "execution_count": 5,
   "id": "78fa920b",
   "metadata": {},
   "outputs": [
    {
     "name": "stderr",
     "output_type": "stream",
     "text": [
      "/opt/homebrew/Caskroom/miniforge/base/envs/info-retri/lib/python3.9/site-packages/elasticsearch/connection/base.py:209: ElasticsearchWarning: Elasticsearch built-in security features are not enabled. Without authentication, your cluster could be accessible to anyone. See https://www.elastic.co/guide/en/elasticsearch/reference/7.15/security-minimal-setup.html to enable security.\n",
      "  warnings.warn(message, category=ElasticsearchWarning)\n"
     ]
    }
   ],
   "source": [
    "reader = IndexReader()\n",
    "for query in queries:\n",
    "    query['query_tokens'] = [t['token'] for t in reader.tokenize(query['query'])['tokens']]\n",
    "    query['question_tokens'] = [t['token'] for t in reader.tokenize(query['question'])['tokens']]\n",
    "    query['narrative_tokens'] = [t['token'] for t in reader.tokenize(query['narrative'])['tokens']]"
   ]
  },
  {
   "cell_type": "code",
   "execution_count": 6,
   "id": "e8323856",
   "metadata": {},
   "outputs": [],
   "source": [
    "def getRetrievalResults(queries, field):\n",
    "    results = {}\n",
    "    for query in tqdm(queries):\n",
    "        res = reader.search(\"cord_test\", query[field], size=200, fields=[], highlight=False)\n",
    "        results[query['queryNo']] = res['hits']['hits']\n",
    "    return results"
   ]
  },
  {
   "cell_type": "code",
   "execution_count": 7,
   "id": "25bb6ba7",
   "metadata": {},
   "outputs": [
    {
     "data": {
      "application/vnd.jupyter.widget-view+json": {
       "model_id": "9fd0fe363d714c4090b1857039f81fb0",
       "version_major": 2,
       "version_minor": 0
      },
      "text/plain": [
       "  0%|          | 0/50 [00:00<?, ?it/s]"
      ]
     },
     "metadata": {},
     "output_type": "display_data"
    },
    {
     "data": {
      "application/vnd.jupyter.widget-view+json": {
       "model_id": "6a14917be05146c2aa66a523260d4c35",
       "version_major": 2,
       "version_minor": 0
      },
      "text/plain": [
       "  0%|          | 0/50 [00:00<?, ?it/s]"
      ]
     },
     "metadata": {},
     "output_type": "display_data"
    },
    {
     "data": {
      "application/vnd.jupyter.widget-view+json": {
       "model_id": "3431680eebd6426e958453bf405762d4",
       "version_major": 2,
       "version_minor": 0
      },
      "text/plain": [
       "  0%|          | 0/50 [00:00<?, ?it/s]"
      ]
     },
     "metadata": {},
     "output_type": "display_data"
    }
   ],
   "source": [
    "queryFields = ['query', 'question', 'narrative']\n",
    "results = {f: getRetrievalResults(queries, f) for f in queryFields}"
   ]
  },
  {
   "cell_type": "code",
   "execution_count": 8,
   "id": "61a664b0",
   "metadata": {},
   "outputs": [],
   "source": [
    "# load the judgments\n",
    "judgments = {q['queryNo']: [] for q in queries}\n",
    "with open('../data/2020-07-16/eval/qrels-covid_d5_j0.5-5.txt', 'r') as qrels:\n",
    "    for line in qrels:\n",
    "        [topicId, iteration, cordId, judgment] = line.strip('\\n').split(' ')\n",
    "        judgments[topicId].append({\n",
    "            'iteration': iteration,\n",
    "            'cordId': cordId,\n",
    "            'judgment': judgment\n",
    "        })"
   ]
  },
  {
   "cell_type": "code",
   "execution_count": 9,
   "id": "031286ea",
   "metadata": {},
   "outputs": [
    {
     "data": {
      "application/vnd.jupyter.widget-view+json": {
       "model_id": "a92e913d90e347d9a0966fb3ccbfe6fc",
       "version_major": 2,
       "version_minor": 0
      },
      "text/plain": [
       "  0%|          | 0/50 [00:00<?, ?it/s]"
      ]
     },
     "metadata": {},
     "output_type": "display_data"
    },
    {
     "data": {
      "application/vnd.jupyter.widget-view+json": {
       "model_id": "9acf252661eb45c18379b7b7c71a1604",
       "version_major": 2,
       "version_minor": 0
      },
      "text/plain": [
       "  0%|          | 0/50 [00:00<?, ?it/s]"
      ]
     },
     "metadata": {},
     "output_type": "display_data"
    },
    {
     "data": {
      "application/vnd.jupyter.widget-view+json": {
       "model_id": "ba8a7eba957a47fd905e9acffebe5998",
       "version_major": 2,
       "version_minor": 0
      },
      "text/plain": [
       "  0%|          | 0/50 [00:00<?, ?it/s]"
      ]
     },
     "metadata": {},
     "output_type": "display_data"
    }
   ],
   "source": [
    "for field in queryFields:\n",
    "    with open('../data/2020-07-16/eval/%s-result.txt'%field, 'w') as res_file:\n",
    "        fieldResults = results[field]\n",
    "        for query in tqdm(queries):\n",
    "            for (index, result) in enumerate(fieldResults[query['queryNo']]):\n",
    "                line = ' '.join([query['queryNo'], 'Q0', result['_id'], str(index + 1), str(result['_score']), field])\n",
    "                res_file.write(line + '\\n')"
   ]
  },
  {
   "cell_type": "code",
   "execution_count": 10,
   "id": "2ad566cc",
   "metadata": {},
   "outputs": [
    {
     "name": "stdout",
     "output_type": "stream",
     "text": [
      "runid                 \tall\tquery\n",
      "num_q                 \tall\t50\n",
      "num_ret               \tall\t10000\n",
      "num_rel               \tall\t26664\n",
      "num_rel_ret           \tall\t3774\n",
      "map                   \tall\t0.0938\n",
      "gm_map                \tall\t0.0542\n",
      "Rprec                 \tall\t0.1514\n",
      "bpref                 \tall\t0.1417\n",
      "recip_rank            \tall\t0.8236\n",
      "iprec_at_recall_0.00  \tall\t0.8466\n",
      "iprec_at_recall_0.10  \tall\t0.4202\n",
      "iprec_at_recall_0.20  \tall\t0.1483\n",
      "iprec_at_recall_0.30  \tall\t0.0284\n",
      "iprec_at_recall_0.40  \tall\t0.0000\n",
      "iprec_at_recall_0.50  \tall\t0.0000\n",
      "iprec_at_recall_0.60  \tall\t0.0000\n",
      "iprec_at_recall_0.70  \tall\t0.0000\n",
      "iprec_at_recall_0.80  \tall\t0.0000\n",
      "iprec_at_recall_0.90  \tall\t0.0000\n",
      "iprec_at_recall_1.00  \tall\t0.0000\n",
      "P_5                   \tall\t0.6640\n",
      "P_10                  \tall\t0.6180\n",
      "P_15                  \tall\t0.6067\n",
      "P_20                  \tall\t0.5840\n",
      "P_30                  \tall\t0.5640\n",
      "P_100                 \tall\t0.4620\n",
      "P_200                 \tall\t0.3774\n",
      "P_500                 \tall\t0.1510\n",
      "P_1000                \tall\t0.0755\n",
      "runid                 \tall\tquestion\n",
      "num_q                 \tall\t50\n",
      "num_ret               \tall\t10000\n",
      "num_rel               \tall\t26664\n",
      "num_rel_ret           \tall\t2734\n",
      "map                   \tall\t0.0585\n",
      "gm_map                \tall\t0.0272\n",
      "Rprec                 \tall\t0.1093\n",
      "bpref                 \tall\t0.1043\n",
      "recip_rank            \tall\t0.6930\n",
      "iprec_at_recall_0.00  \tall\t0.7513\n",
      "iprec_at_recall_0.10  \tall\t0.2526\n",
      "iprec_at_recall_0.20  \tall\t0.0561\n",
      "iprec_at_recall_0.30  \tall\t0.0259\n",
      "iprec_at_recall_0.40  \tall\t0.0112\n",
      "iprec_at_recall_0.50  \tall\t0.0000\n",
      "iprec_at_recall_0.60  \tall\t0.0000\n",
      "iprec_at_recall_0.70  \tall\t0.0000\n",
      "iprec_at_recall_0.80  \tall\t0.0000\n",
      "iprec_at_recall_0.90  \tall\t0.0000\n",
      "iprec_at_recall_1.00  \tall\t0.0000\n",
      "P_5                   \tall\t0.5200\n",
      "P_10                  \tall\t0.4980\n",
      "P_15                  \tall\t0.4640\n",
      "P_20                  \tall\t0.4390\n",
      "P_30                  \tall\t0.4187\n",
      "P_100                 \tall\t0.3336\n",
      "P_200                 \tall\t0.2734\n",
      "P_500                 \tall\t0.1094\n",
      "P_1000                \tall\t0.0547\n",
      "runid                 \tall\tnarrative\n",
      "num_q                 \tall\t50\n",
      "num_ret               \tall\t10000\n",
      "num_rel               \tall\t26664\n",
      "num_rel_ret           \tall\t2633\n",
      "map                   \tall\t0.0529\n",
      "gm_map                \tall\t0.0248\n",
      "Rprec                 \tall\t0.1081\n",
      "bpref                 \tall\t0.1027\n",
      "recip_rank            \tall\t0.6435\n",
      "iprec_at_recall_0.00  \tall\t0.7072\n",
      "iprec_at_recall_0.10  \tall\t0.2215\n",
      "iprec_at_recall_0.20  \tall\t0.0619\n",
      "iprec_at_recall_0.30  \tall\t0.0111\n",
      "iprec_at_recall_0.40  \tall\t0.0000\n",
      "iprec_at_recall_0.50  \tall\t0.0000\n",
      "iprec_at_recall_0.60  \tall\t0.0000\n",
      "iprec_at_recall_0.70  \tall\t0.0000\n",
      "iprec_at_recall_0.80  \tall\t0.0000\n",
      "iprec_at_recall_0.90  \tall\t0.0000\n",
      "iprec_at_recall_1.00  \tall\t0.0000\n",
      "P_5                   \tall\t0.4880\n",
      "P_10                  \tall\t0.4500\n",
      "P_15                  \tall\t0.4360\n",
      "P_20                  \tall\t0.4300\n",
      "P_30                  \tall\t0.3953\n",
      "P_100                 \tall\t0.3224\n",
      "P_200                 \tall\t0.2633\n",
      "P_500                 \tall\t0.1053\n",
      "P_1000                \tall\t0.0527\n"
     ]
    }
   ],
   "source": [
    "# use trec_eval to get evaluation\n",
    "!../data/2020-07-16/eval/trec_eval ../data/2020-07-16/eval/qrels-covid_d5_j0.5-5.txt ../data/2020-07-16/eval/query-result.txt\n",
    "!../data/2020-07-16/eval/trec_eval ../data/2020-07-16/eval/qrels-covid_d5_j0.5-5.txt ../data/2020-07-16/eval/question-result.txt\n",
    "!../data/2020-07-16/eval/trec_eval ../data/2020-07-16/eval/qrels-covid_d5_j0.5-5.txt ../data/2020-07-16/eval/narrative-result.txt"
   ]
  },
  {
   "cell_type": "code",
   "execution_count": 11,
   "id": "0c18beb1",
   "metadata": {},
   "outputs": [],
   "source": [
    "# calculate in Python\n",
    "ndcg_eval_at = [3, 5, 10, 15, 20, 25, 30]\n",
    "recall_eval_at = [5, 10, 20, 50, 100, 150]\n",
    "def getEvaluation(results, judgments):\n",
    "    queryEval = []\n",
    "    for queryNo in results:\n",
    "        # doc to relevant score\n",
    "        relMap = {}\n",
    "        # number of docs in each relevant score\n",
    "        relCount = {}\n",
    "        totalRel = 0\n",
    "        for j in judgments[queryNo]:\n",
    "            score = int(j['judgment'])\n",
    "            relMap[j['cordId']] = score\n",
    "            relCount[score] = relCount.get(score, 0) + 1\n",
    "            if score > 0:\n",
    "                totalRel += 1\n",
    "        truePositive = 0\n",
    "        falsePositive = 0\n",
    "        precisions = []\n",
    "        reciprocalRank = 0\n",
    "        cumulativeGain = 0\n",
    "        discountedCumulativeGain = 0\n",
    "        idealDCG = 0\n",
    "        dcgAt = {}\n",
    "        idcgAt = {}\n",
    "        ndcgAt = {}\n",
    "        index = 1\n",
    "        recallAt = {}\n",
    "        for score in sorted(relCount.keys(), reverse=True):\n",
    "            for i in range(relCount[score]):\n",
    "                idealDCG += (2 ** score - 1) / (math.log2(1 + index))\n",
    "                if index in ndcg_eval_at:\n",
    "                    idcgAt[index] = idealDCG\n",
    "                index += 1\n",
    "        for (index, doc) in enumerate(results[queryNo]):\n",
    "            docId = doc['_id']\n",
    "            cumulativeGain += relMap.get(docId, 0)\n",
    "            discountedCumulativeGain += (2 ** (relMap.get(docId, 0)) - 1) / (math.log2(1 + (1 + i)))\n",
    "            if relMap.get(docId, 0) > 0:\n",
    "                truePositive += 1\n",
    "                # recall increase\n",
    "                precisions.append(truePositive / (truePositive + falsePositive))\n",
    "                if reciprocalRank == 0:\n",
    "                    reciprocalRank = 1 / (index+1)\n",
    "            else:\n",
    "                falsePositive += 1\n",
    "            if index + 1 in ndcg_eval_at and (index + 1) in idcgAt:\n",
    "                dcgAt[index + 1] = discountedCumulativeGain\n",
    "                ndcgAt[index + 1] = dcgAt[index + 1] / idcgAt[index + 1]\n",
    "            if index + 1 in recall_eval_at:\n",
    "                recallAt[index + 1] = truePositive / totalRel\n",
    "        queryEval.append({\n",
    "            'AveragePrecision': sum(precisions) / totalRel,\n",
    "            'ReciprocalRank': reciprocalRank,\n",
    "            'CG': cumulativeGain,\n",
    "            'DCG': discountedCumulativeGain,\n",
    "            'IDCG': idealDCG,\n",
    "            'nDCG': discountedCumulativeGain / idealDCG,\n",
    "            'nDCGAt': ndcgAt,\n",
    "            'recallAt': recallAt\n",
    "        })\n",
    "    return {\n",
    "        'MeanAveragePrecisions': sum(map(lambda e: e['AveragePrecision'], queryEval)) / len(queryEval),\n",
    "        'MeanReciprocalRank': sum(map(lambda e: e['ReciprocalRank'], queryEval)) / len(queryEval),\n",
    "        'AverageNDCG': sum(map(lambda e: e['nDCG'], queryEval)) / len(queryEval),\n",
    "        'AverageNDCGAt': {k: sum(map(lambda e: e['nDCGAt'][k], queryEval)) / len(queryEval) for k in ndcg_eval_at},\n",
    "        'AverageRecallAt': {k: sum(map(lambda e: e['recallAt'][k], queryEval)) / len(queryEval) for k in recall_eval_at}\n",
    "    }\n",
    "            "
   ]
  },
  {
   "cell_type": "code",
   "execution_count": 12,
   "id": "66552362",
   "metadata": {},
   "outputs": [
    {
     "data": {
      "text/plain": [
       "{'MeanAveragePrecisions': 0.0938413425805633,\n",
       " 'MeanReciprocalRank': 0.8136031746031747,\n",
       " 'AverageNDCG': 0.14186232674604926,\n",
       " 'AverageNDCGAt': {3: 0.13364055103725428,\n",
       "  5: 0.1418463555798589,\n",
       "  10: 0.1680738131354743,\n",
       "  15: 0.18464160353165723,\n",
       "  20: 0.19572503874359487,\n",
       "  25: 0.20166118601071548,\n",
       "  30: 0.21199265201748066},\n",
       " 'AverageRecallAt': {5: 0.007571936093659915,\n",
       "  10: 0.014347370761125028,\n",
       "  20: 0.025675868223038946,\n",
       "  50: 0.05593293689518463,\n",
       "  100: 0.09603243791764829,\n",
       "  150: 0.12785061256462518}}"
      ]
     },
     "execution_count": 12,
     "metadata": {},
     "output_type": "execute_result"
    }
   ],
   "source": [
    "getEvaluation(results['query'], judgments)"
   ]
  },
  {
   "cell_type": "code",
   "execution_count": 13,
   "id": "a1b6d77b",
   "metadata": {},
   "outputs": [
    {
     "data": {
      "text/plain": [
       "{'MeanAveragePrecisions': 0.05846350714788746,\n",
       " 'MeanReciprocalRank': 0.6930461107519932,\n",
       " 'AverageNDCG': 0.10352932326145607,\n",
       " 'AverageNDCGAt': {3: 0.09875194087296979,\n",
       "  5: 0.11636770250055294,\n",
       "  10: 0.13835908558004478,\n",
       "  15: 0.1488085799127936,\n",
       "  20: 0.15100867206756832,\n",
       "  25: 0.15061045685942806,\n",
       "  30: 0.15584868010479463},\n",
       " 'AverageRecallAt': {5: 0.005727560253085045,\n",
       "  10: 0.011274666322520223,\n",
       "  20: 0.019611381677786005,\n",
       "  50: 0.04029976874013658,\n",
       "  100: 0.06874504517191328,\n",
       "  150: 0.09178983181898402}}"
      ]
     },
     "execution_count": 13,
     "metadata": {},
     "output_type": "execute_result"
    }
   ],
   "source": [
    "getEvaluation(results['question'], judgments)"
   ]
  },
  {
   "cell_type": "code",
   "execution_count": 14,
   "id": "b0478f03",
   "metadata": {},
   "outputs": [
    {
     "data": {
      "text/plain": [
       "{'MeanAveragePrecisions': 0.0529449798520697,\n",
       " 'MeanReciprocalRank': 0.6434796152314557,\n",
       " 'AverageNDCG': 0.10658332315533475,\n",
       " 'AverageNDCGAt': {3: 0.09286698794380803,\n",
       "  5: 0.09907587042444932,\n",
       "  10: 0.12023696099287039,\n",
       "  15: 0.1276837496201119,\n",
       "  20: 0.1381839021514124,\n",
       "  25: 0.1423471423387641,\n",
       "  30: 0.14730348405985721},\n",
       " 'AverageRecallAt': {5: 0.005375328395812915,\n",
       "  10: 0.00957656146663195,\n",
       "  20: 0.01846469816821065,\n",
       "  50: 0.03979425169564572,\n",
       "  100: 0.06755924917514011,\n",
       "  150: 0.08948080605363223}}"
      ]
     },
     "execution_count": 14,
     "metadata": {},
     "output_type": "execute_result"
    }
   ],
   "source": [
    "getEvaluation(results['narrative'], judgments)"
   ]
  },
  {
   "cell_type": "code",
   "execution_count": 15,
   "id": "8d437ce6",
   "metadata": {},
   "outputs": [],
   "source": [
    "# ML Part \n",
    "from search.ml_rank import MlRanker\n",
    "from search.data_loader import DataLoader\n",
    "ranker = MlRanker(\"../data/models/ranker.joblib\",\n",
    "                  '../data/models/tfidf.joblib',\n",
    "                  \"../data/models/docMatrix.joblib\")\n",
    "loader = DataLoader('../data/2020-07-16')\n",
    "loader.load_metadata_mappings(loader.load_metadata())"
   ]
  },
  {
   "cell_type": "code",
   "execution_count": null,
   "id": "bff2594c",
   "metadata": {},
   "outputs": [],
   "source": []
  },
  {
   "cell_type": "code",
   "execution_count": 16,
   "id": "baf83f73",
   "metadata": {},
   "outputs": [
    {
     "data": {
      "application/vnd.jupyter.widget-view+json": {
       "model_id": "9bc31b897f2843e9b7ef1c12647e1dbe",
       "version_major": 2,
       "version_minor": 0
      },
      "text/plain": [
       "  0%|          | 0/50 [00:00<?, ?it/s]"
      ]
     },
     "metadata": {},
     "output_type": "display_data"
    },
    {
     "name": "stderr",
     "output_type": "stream",
     "text": [
      "/opt/homebrew/Caskroom/miniforge/base/envs/info-retri/lib/python3.9/site-packages/elasticsearch/connection/base.py:209: ElasticsearchWarning: Elasticsearch built-in security features are not enabled. Without authentication, your cluster could be accessible to anyone. See https://www.elastic.co/guide/en/elasticsearch/reference/7.15/security-minimal-setup.html to enable security.\n",
      "  warnings.warn(message, category=ElasticsearchWarning)\n",
      "/opt/homebrew/Caskroom/miniforge/base/envs/info-retri/lib/python3.9/site-packages/lightgbm/basic.py:859: UserWarning: Converting data to scipy sparse matrix.\n",
      "  _log_warning('Converting data to scipy sparse matrix.')\n"
     ]
    },
    {
     "data": {
      "application/vnd.jupyter.widget-view+json": {
       "model_id": "3c0637e8ecb447ec90e406b495182409",
       "version_major": 2,
       "version_minor": 0
      },
      "text/plain": [
       "  0%|          | 0/50 [00:00<?, ?it/s]"
      ]
     },
     "metadata": {},
     "output_type": "display_data"
    },
    {
     "data": {
      "application/vnd.jupyter.widget-view+json": {
       "model_id": "f09aec7d0cba4b4b8ce6b47383cb116e",
       "version_major": 2,
       "version_minor": 0
      },
      "text/plain": [
       "  0%|          | 0/50 [00:00<?, ?it/s]"
      ]
     },
     "metadata": {},
     "output_type": "display_data"
    }
   ],
   "source": [
    "def getMlRetrievalResults(queries, field):\n",
    "    results = {}\n",
    "    for query in tqdm(queries):\n",
    "        res = reader.search(\"cord_test\", query[field], size=400, fields=[], highlight=False)\n",
    "        results[query['queryNo']] = ranker.rank(query[field], res['hits']['hits'], loader)[:200]\n",
    "#         results[query['queryNo']] = ranker.whole_rank(query[field], loader, size=3000)\n",
    "    return results\n",
    "queryFields = ['query', 'question', 'narrative']\n",
    "mlResults = {f: getMlRetrievalResults(queries, f) for f in queryFields}"
   ]
  },
  {
   "cell_type": "code",
   "execution_count": 17,
   "id": "3fc33898",
   "metadata": {},
   "outputs": [
    {
     "data": {
      "text/plain": [
       "{'MeanAveragePrecisions': 0.09005768959527849,\n",
       " 'MeanReciprocalRank': 0.8773431372549021,\n",
       " 'AverageNDCG': 0.14989653195869732,\n",
       " 'AverageNDCGAt': {3: 0.13991337162398162,\n",
       "  5: 0.16019083195779918,\n",
       "  10: 0.1880138820680024,\n",
       "  15: 0.19467260831962604,\n",
       "  20: 0.19345587108302367,\n",
       "  25: 0.20039637103587843,\n",
       "  30: 0.20275076498976807},\n",
       " 'AverageRecallAt': {5: 0.00926449270214008,\n",
       "  10: 0.015998131184328683,\n",
       "  20: 0.026009531123613473,\n",
       "  50: 0.0537778238934053,\n",
       "  100: 0.09362866234599823,\n",
       "  150: 0.12833507509372352}}"
      ]
     },
     "execution_count": 17,
     "metadata": {},
     "output_type": "execute_result"
    }
   ],
   "source": [
    "getEvaluation(mlResults['query'], judgments)"
   ]
  },
  {
   "cell_type": "code",
   "execution_count": 18,
   "id": "a2981a9c",
   "metadata": {},
   "outputs": [
    {
     "data": {
      "text/plain": [
       "{'MeanAveragePrecisions': 0.06761999829016076,\n",
       " 'MeanReciprocalRank': 0.8252344877344878,\n",
       " 'AverageNDCG': 0.11532019227800484,\n",
       " 'AverageNDCGAt': {3: 0.11905154557103742,\n",
       "  5: 0.12393254487128674,\n",
       "  10: 0.14123750446905745,\n",
       "  15: 0.1582603939056153,\n",
       "  20: 0.17213461310509906,\n",
       "  25: 0.1736205311284242,\n",
       "  30: 0.1879348927923065},\n",
       " 'AverageRecallAt': {5: 0.007036929542146301,\n",
       "  10: 0.012438348507519768,\n",
       "  20: 0.022579426777155062,\n",
       "  50: 0.04748731389222309,\n",
       "  100: 0.07728923447092567,\n",
       "  150: 0.1022987869894738}}"
      ]
     },
     "execution_count": 18,
     "metadata": {},
     "output_type": "execute_result"
    }
   ],
   "source": [
    "getEvaluation(mlResults['question'], judgments)"
   ]
  },
  {
   "cell_type": "code",
   "execution_count": 19,
   "id": "aaf59880",
   "metadata": {},
   "outputs": [
    {
     "data": {
      "text/plain": [
       "{'MeanAveragePrecisions': 0.06532275195288008,\n",
       " 'MeanReciprocalRank': 0.7682640692640693,\n",
       " 'AverageNDCG': 0.12157516727524953,\n",
       " 'AverageNDCGAt': {3: 0.10564352676043003,\n",
       "  5: 0.11180616183951819,\n",
       "  10: 0.12264224455441847,\n",
       "  15: 0.1346994667771853,\n",
       "  20: 0.13848747497440722,\n",
       "  25: 0.14741789446600842,\n",
       "  30: 0.15580126111441747},\n",
       " 'AverageRecallAt': {5: 0.0065333607323246785,\n",
       "  10: 0.011521895095800096,\n",
       "  20: 0.01938405775205271,\n",
       "  50: 0.043768419307058284,\n",
       "  100: 0.07885855371500826,\n",
       "  150: 0.10512626881803339}}"
      ]
     },
     "execution_count": 19,
     "metadata": {},
     "output_type": "execute_result"
    }
   ],
   "source": [
    "getEvaluation(mlResults['narrative'], judgments)"
   ]
  },
  {
   "cell_type": "code",
   "execution_count": 27,
   "id": "728b6e6e",
   "metadata": {},
   "outputs": [],
   "source": [
    "def get_diff(res1, res2):\n",
    "    res = {}\n",
    "    for key in res1.keys():\n",
    "        if isinstance(res1[key], dict):\n",
    "            res[key] = {}\n",
    "            for key2 in res1[key].keys():\n",
    "                res[key][key2] = str(((res2[key][key2] - res1[key][key2]) / res1[key][key2]) * 100) + '%'\n",
    "        else:\n",
    "            res[key] = str(((res2[key] - res1[key]) / res1[key]) * 100) + '%'\n",
    "    return res"
   ]
  },
  {
   "cell_type": "code",
   "execution_count": 28,
   "id": "c474f6d1",
   "metadata": {},
   "outputs": [
    {
     "data": {
      "text/plain": [
       "{'MeanAveragePrecisions': '-4.031968087025741%',\n",
       " 'MeanReciprocalRank': '7.834281458257074%',\n",
       " 'AverageNDCG': '5.663381813150615%',\n",
       " 'AverageNDCGAt': {3: '4.693800300912187%',\n",
       "  5: '12.932638489687829%',\n",
       "  10: '11.863876091426338%',\n",
       "  15: '5.432689380998022%',\n",
       "  20: '-1.159365033282159%',\n",
       "  25: '-0.6271980244973071%',\n",
       "  30: '-4.359531776106331%'},\n",
       " 'AverageRecallAt': {5: '22.35302289327778%',\n",
       "  10: '11.505665049630414%',\n",
       "  20: '1.299519446338064%',\n",
       "  50: '-3.8530302920046946%',\n",
       "  100: '-2.503087106578917%',\n",
       "  150: '0.3789285943807709%'}}"
      ]
     },
     "execution_count": 28,
     "metadata": {},
     "output_type": "execute_result"
    }
   ],
   "source": [
    "get_diff(getEvaluation(results['query'], judgments), getEvaluation(mlResults['query'], judgments))"
   ]
  },
  {
   "cell_type": "code",
   "execution_count": 29,
   "id": "e7bfcbbe",
   "metadata": {},
   "outputs": [
    {
     "data": {
      "text/plain": [
       "{'MeanAveragePrecisions': '15.661891646546838%',\n",
       " 'MeanReciprocalRank': '19.07353276091009%',\n",
       " 'AverageNDCG': '11.388917308743297%',\n",
       " 'AverageNDCGAt': {3: '20.556157700414378%',\n",
       "  5: '6.500809252204546%',\n",
       "  10: '2.0803974505508083%',\n",
       "  15: '6.3516592916623305%',\n",
       "  20: '13.989885976931182%',\n",
       "  25: '15.277872963676456%',\n",
       "  30: '20.58805545605948%'},\n",
       " 'AverageRecallAt': {5: '22.860855778094844%',\n",
       "  10: '10.321211747749771%',\n",
       "  20: '15.134298786969147%',\n",
       "  50: '17.835201979529163%',\n",
       "  100: '12.428807454625451%',\n",
       "  150: '11.448931719598496%'}}"
      ]
     },
     "execution_count": 29,
     "metadata": {},
     "output_type": "execute_result"
    }
   ],
   "source": [
    "get_diff(getEvaluation(results['question'], judgments), getEvaluation(mlResults['question'], judgments))"
   ]
  },
  {
   "cell_type": "code",
   "execution_count": 30,
   "id": "e233df88",
   "metadata": {},
   "outputs": [
    {
     "data": {
      "text/plain": [
       "{'MeanAveragePrecisions': '23.378556636331425%',\n",
       " 'MeanReciprocalRank': '19.392137851597585%',\n",
       " 'AverageNDCG': '14.0658441453037%',\n",
       " 'AverageNDCGAt': {3: '13.757890828065648%',\n",
       "  5: '12.849033130399198%',\n",
       "  10: '2.0004527240926393%',\n",
       "  15: '5.494604581982252%',\n",
       "  20: '0.2196875455595247%',\n",
       "  25: '3.5622437120491726%',\n",
       "  30: '5.7688907419916555%'},\n",
       " 'AverageRecallAt': {5: '21.543471416812544%',\n",
       "  10: '20.313487632762154%',\n",
       "  20: '4.979012250657087%',\n",
       "  50: '9.986788146709692%',\n",
       "  100: '16.72502977434801%',\n",
       "  150: '17.484713710584714%'}}"
      ]
     },
     "execution_count": 30,
     "metadata": {},
     "output_type": "execute_result"
    }
   ],
   "source": [
    "get_diff(getEvaluation(results['narrative'], judgments), getEvaluation(mlResults['narrative'], judgments))"
   ]
  },
  {
   "cell_type": "code",
   "execution_count": null,
   "id": "6d2b3ed3",
   "metadata": {},
   "outputs": [],
   "source": []
  },
  {
   "cell_type": "code",
   "execution_count": null,
   "id": "eebfb864",
   "metadata": {},
   "outputs": [],
   "source": []
  },
  {
   "cell_type": "code",
   "execution_count": null,
   "id": "7c775499",
   "metadata": {},
   "outputs": [],
   "source": []
  },
  {
   "cell_type": "code",
   "execution_count": null,
   "id": "f8f67cba",
   "metadata": {},
   "outputs": [],
   "source": []
  },
  {
   "cell_type": "code",
   "execution_count": null,
   "id": "703f0c4b",
   "metadata": {},
   "outputs": [],
   "source": []
  },
  {
   "cell_type": "code",
   "execution_count": null,
   "id": "822b87d7",
   "metadata": {},
   "outputs": [],
   "source": []
  },
  {
   "cell_type": "code",
   "execution_count": null,
   "id": "a83294cb",
   "metadata": {},
   "outputs": [],
   "source": []
  },
  {
   "cell_type": "code",
   "execution_count": null,
   "id": "1be121b1",
   "metadata": {},
   "outputs": [],
   "source": []
  },
  {
   "cell_type": "code",
   "execution_count": null,
   "id": "3c206245",
   "metadata": {},
   "outputs": [],
   "source": []
  },
  {
   "cell_type": "code",
   "execution_count": null,
   "id": "215c1ba8",
   "metadata": {},
   "outputs": [],
   "source": []
  },
  {
   "cell_type": "code",
   "execution_count": null,
   "id": "353d2a18",
   "metadata": {},
   "outputs": [],
   "source": []
  }
 ],
 "metadata": {
  "kernelspec": {
   "display_name": "Python 3 (ipykernel)",
   "language": "python",
   "name": "python3"
  },
  "language_info": {
   "codemirror_mode": {
    "name": "ipython",
    "version": 3
   },
   "file_extension": ".py",
   "mimetype": "text/x-python",
   "name": "python",
   "nbconvert_exporter": "python",
   "pygments_lexer": "ipython3",
   "version": "3.9.7"
  }
 },
 "nbformat": 4,
 "nbformat_minor": 5
}
