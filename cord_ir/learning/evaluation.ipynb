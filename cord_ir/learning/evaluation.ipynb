{
 "cells": [
  {
   "cell_type": "code",
   "execution_count": 1,
   "id": "76a08e88",
   "metadata": {},
   "outputs": [
    {
     "name": "stdout",
     "output_type": "stream",
     "text": [
      "/Users/mig/Desktop/pitt/projects/Group-Project-2140/cord_ir\n"
     ]
    }
   ],
   "source": [
    "cd .."
   ]
  },
  {
   "cell_type": "code",
   "execution_count": 90,
   "id": "be6dc463",
   "metadata": {},
   "outputs": [],
   "source": [
    "from search.elastic_index_reader import IndexReader\n",
    "from tqdm.notebook import trange, tqdm\n",
    "import math"
   ]
  },
  {
   "cell_type": "code",
   "execution_count": 3,
   "id": "1b7b2b8b",
   "metadata": {},
   "outputs": [],
   "source": [
    "import xml.etree.ElementTree as ET\n",
    "queryTree = ET.parse('../data/2020-07-16/eval/topics-rnd5.xml')"
   ]
  },
  {
   "cell_type": "code",
   "execution_count": 4,
   "id": "de471be9",
   "metadata": {},
   "outputs": [],
   "source": [
    "queryRoot = queryTree.getroot()\n",
    "queries = []\n",
    "for child in queryRoot:\n",
    "    query = {\n",
    "        'queryNo': child.attrib['number'],\n",
    "        'query': child.find('query').text,\n",
    "        'question': child.find('question').text,\n",
    "        'narrative': child.find('narrative').text\n",
    "    }\n",
    "    queries.append(query)"
   ]
  },
  {
   "cell_type": "code",
   "execution_count": 5,
   "id": "78fa920b",
   "metadata": {},
   "outputs": [
    {
     "name": "stderr",
     "output_type": "stream",
     "text": [
      "/opt/homebrew/Caskroom/miniforge/base/envs/info-retri/lib/python3.9/site-packages/elasticsearch/connection/base.py:209: ElasticsearchWarning: Elasticsearch built-in security features are not enabled. Without authentication, your cluster could be accessible to anyone. See https://www.elastic.co/guide/en/elasticsearch/reference/7.15/security-minimal-setup.html to enable security.\n",
      "  warnings.warn(message, category=ElasticsearchWarning)\n"
     ]
    }
   ],
   "source": [
    "reader = IndexReader()\n",
    "for query in queries:\n",
    "    query['query_tokens'] = [t['token'] for t in reader.tokenize(query['query'])['tokens']]\n",
    "    query['question_tokens'] = [t['token'] for t in reader.tokenize(query['question'])['tokens']]\n",
    "    query['narrative_tokens'] = [t['token'] for t in reader.tokenize(query['narrative'])['tokens']]"
   ]
  },
  {
   "cell_type": "code",
   "execution_count": 67,
   "id": "e8323856",
   "metadata": {},
   "outputs": [],
   "source": [
    "def getRetrievalResults(queries, field):\n",
    "    results = {}\n",
    "    for query in tqdm(queries):\n",
    "        res = reader.search(\"cord_test\", query[field], size=2000, fields=[], highlight=False)\n",
    "        results[query['queryNo']] = res['hits']['hits']\n",
    "    return results"
   ]
  },
  {
   "cell_type": "code",
   "execution_count": 68,
   "id": "25bb6ba7",
   "metadata": {},
   "outputs": [
    {
     "data": {
      "application/vnd.jupyter.widget-view+json": {
       "model_id": "b2dac44b7f8448c2ae8b20f9b2b90bb4",
       "version_major": 2,
       "version_minor": 0
      },
      "text/plain": [
       "  0%|          | 0/50 [00:00<?, ?it/s]"
      ]
     },
     "metadata": {},
     "output_type": "display_data"
    },
    {
     "name": "stderr",
     "output_type": "stream",
     "text": [
      "/opt/homebrew/Caskroom/miniforge/base/envs/info-retri/lib/python3.9/site-packages/elasticsearch/connection/base.py:209: ElasticsearchWarning: Elasticsearch built-in security features are not enabled. Without authentication, your cluster could be accessible to anyone. See https://www.elastic.co/guide/en/elasticsearch/reference/7.15/security-minimal-setup.html to enable security.\n",
      "  warnings.warn(message, category=ElasticsearchWarning)\n"
     ]
    },
    {
     "data": {
      "application/vnd.jupyter.widget-view+json": {
       "model_id": "3057081705da402db3634c732b96a516",
       "version_major": 2,
       "version_minor": 0
      },
      "text/plain": [
       "  0%|          | 0/50 [00:00<?, ?it/s]"
      ]
     },
     "metadata": {},
     "output_type": "display_data"
    },
    {
     "data": {
      "application/vnd.jupyter.widget-view+json": {
       "model_id": "973bfb74fe074f349802b78c025a7090",
       "version_major": 2,
       "version_minor": 0
      },
      "text/plain": [
       "  0%|          | 0/50 [00:00<?, ?it/s]"
      ]
     },
     "metadata": {},
     "output_type": "display_data"
    }
   ],
   "source": [
    "queryFields = ['query', 'question', 'narrative']\n",
    "results = {f: getRetrievalResults(queries, f) for f in queryFields}"
   ]
  },
  {
   "cell_type": "code",
   "execution_count": 69,
   "id": "61a664b0",
   "metadata": {},
   "outputs": [],
   "source": [
    "# load the judgments\n",
    "judgments = {q['queryNo']: [] for q in queries}\n",
    "with open('../data/2020-07-16/eval/qrels-covid_d5_j0.5-5.txt', 'r') as qrels:\n",
    "    for line in qrels:\n",
    "        [topicId, iteration, cordId, judgment] = line.strip('\\n').split(' ')\n",
    "        judgments[topicId].append({\n",
    "            'iteration': iteration,\n",
    "            'cordId': cordId,\n",
    "            'judgment': judgment\n",
    "        })"
   ]
  },
  {
   "cell_type": "code",
   "execution_count": 70,
   "id": "031286ea",
   "metadata": {},
   "outputs": [
    {
     "data": {
      "application/vnd.jupyter.widget-view+json": {
       "model_id": "40f7ed1b76164935b35eaa9dc180dc6d",
       "version_major": 2,
       "version_minor": 0
      },
      "text/plain": [
       "  0%|          | 0/50 [00:00<?, ?it/s]"
      ]
     },
     "metadata": {},
     "output_type": "display_data"
    },
    {
     "data": {
      "application/vnd.jupyter.widget-view+json": {
       "model_id": "6b766359690348cd94c4177adeb9807d",
       "version_major": 2,
       "version_minor": 0
      },
      "text/plain": [
       "  0%|          | 0/50 [00:00<?, ?it/s]"
      ]
     },
     "metadata": {},
     "output_type": "display_data"
    },
    {
     "data": {
      "application/vnd.jupyter.widget-view+json": {
       "model_id": "6acae515dd8647e78b455e2e62e13633",
       "version_major": 2,
       "version_minor": 0
      },
      "text/plain": [
       "  0%|          | 0/50 [00:00<?, ?it/s]"
      ]
     },
     "metadata": {},
     "output_type": "display_data"
    }
   ],
   "source": [
    "for field in queryFields:\n",
    "    with open('../data/2020-07-16/eval/%s-result.txt'%field, 'w') as res_file:\n",
    "        fieldResults = results[field]\n",
    "        for query in tqdm(queries):\n",
    "            for (index, result) in enumerate(fieldResults[query['queryNo']]):\n",
    "                line = ' '.join([query['queryNo'], 'Q0', result['_id'], str(index + 1), str(result['_score']), field])\n",
    "                res_file.write(line + '\\n')"
   ]
  },
  {
   "cell_type": "code",
   "execution_count": 73,
   "id": "2ad566cc",
   "metadata": {},
   "outputs": [
    {
     "name": "stdout",
     "output_type": "stream",
     "text": [
      "runid                 \tall\tquery\n",
      "num_q                 \tall\t50\n",
      "num_ret               \tall\t100000\n",
      "num_rel               \tall\t26664\n",
      "num_rel_ret           \tall\t11040\n",
      "map                   \tall\t0.1635\n",
      "gm_map                \tall\t0.1021\n",
      "Rprec                 \tall\t0.2523\n",
      "bpref                 \tall\t0.3129\n",
      "recip_rank            \tall\t0.8236\n",
      "iprec_at_recall_0.00  \tall\t0.8466\n",
      "iprec_at_recall_0.10  \tall\t0.4777\n",
      "iprec_at_recall_0.20  \tall\t0.3524\n",
      "iprec_at_recall_0.30  \tall\t0.2548\n",
      "iprec_at_recall_0.40  \tall\t0.1607\n",
      "iprec_at_recall_0.50  \tall\t0.0680\n",
      "iprec_at_recall_0.60  \tall\t0.0160\n",
      "iprec_at_recall_0.70  \tall\t0.0000\n",
      "iprec_at_recall_0.80  \tall\t0.0000\n",
      "iprec_at_recall_0.90  \tall\t0.0000\n",
      "iprec_at_recall_1.00  \tall\t0.0000\n",
      "P_5                   \tall\t0.6640\n",
      "P_10                  \tall\t0.6180\n",
      "P_15                  \tall\t0.6067\n",
      "P_20                  \tall\t0.5840\n",
      "P_30                  \tall\t0.5640\n",
      "P_100                 \tall\t0.4620\n",
      "P_200                 \tall\t0.3770\n",
      "P_500                 \tall\t0.2539\n",
      "P_1000                \tall\t0.1754\n",
      "runid                 \tall\tquestion\n",
      "num_q                 \tall\t50\n",
      "num_ret               \tall\t100000\n",
      "num_rel               \tall\t26664\n",
      "num_rel_ret           \tall\t9156\n",
      "map                   \tall\t0.1069\n",
      "gm_map                \tall\t0.0589\n",
      "Rprec                 \tall\t0.1892\n",
      "bpref                 \tall\t0.2675\n",
      "recip_rank            \tall\t0.6930\n",
      "iprec_at_recall_0.00  \tall\t0.7516\n",
      "iprec_at_recall_0.10  \tall\t0.3220\n",
      "iprec_at_recall_0.20  \tall\t0.2277\n",
      "iprec_at_recall_0.30  \tall\t0.1561\n",
      "iprec_at_recall_0.40  \tall\t0.0955\n",
      "iprec_at_recall_0.50  \tall\t0.0297\n",
      "iprec_at_recall_0.60  \tall\t0.0037\n",
      "iprec_at_recall_0.70  \tall\t0.0000\n",
      "iprec_at_recall_0.80  \tall\t0.0000\n",
      "iprec_at_recall_0.90  \tall\t0.0000\n",
      "iprec_at_recall_1.00  \tall\t0.0000\n",
      "P_5                   \tall\t0.5200\n",
      "P_10                  \tall\t0.4980\n",
      "P_15                  \tall\t0.4640\n",
      "P_20                  \tall\t0.4390\n",
      "P_30                  \tall\t0.4187\n",
      "P_100                 \tall\t0.3336\n",
      "P_200                 \tall\t0.2734\n",
      "P_500                 \tall\t0.1931\n",
      "P_1000                \tall\t0.1386\n",
      "runid                 \tall\tnarrative\n",
      "num_q                 \tall\t50\n",
      "num_ret               \tall\t100000\n",
      "num_rel               \tall\t26664\n",
      "num_rel_ret           \tall\t8812\n",
      "map                   \tall\t0.0978\n",
      "gm_map                \tall\t0.0525\n",
      "Rprec                 \tall\t0.1850\n",
      "bpref                 \tall\t0.2667\n",
      "recip_rank            \tall\t0.6435\n",
      "iprec_at_recall_0.00  \tall\t0.7073\n",
      "iprec_at_recall_0.10  \tall\t0.2965\n",
      "iprec_at_recall_0.20  \tall\t0.2072\n",
      "iprec_at_recall_0.30  \tall\t0.1459\n",
      "iprec_at_recall_0.40  \tall\t0.0794\n",
      "iprec_at_recall_0.50  \tall\t0.0277\n",
      "iprec_at_recall_0.60  \tall\t0.0034\n",
      "iprec_at_recall_0.70  \tall\t0.0000\n",
      "iprec_at_recall_0.80  \tall\t0.0000\n",
      "iprec_at_recall_0.90  \tall\t0.0000\n",
      "iprec_at_recall_1.00  \tall\t0.0000\n",
      "P_5                   \tall\t0.4880\n",
      "P_10                  \tall\t0.4500\n",
      "P_15                  \tall\t0.4360\n",
      "P_20                  \tall\t0.4300\n",
      "P_30                  \tall\t0.3953\n",
      "P_100                 \tall\t0.3224\n",
      "P_200                 \tall\t0.2633\n",
      "P_500                 \tall\t0.1834\n",
      "P_1000                \tall\t0.1306\n"
     ]
    }
   ],
   "source": [
    "# use trec_eval to get evaluation\n",
    "!../data/2020-07-16/eval/trec_eval ../data/2020-07-16/eval/qrels-covid_d5_j0.5-5.txt ../data/2020-07-16/eval/query-result.txt\n",
    "!../data/2020-07-16/eval/trec_eval ../data/2020-07-16/eval/qrels-covid_d5_j0.5-5.txt ../data/2020-07-16/eval/question-result.txt\n",
    "!../data/2020-07-16/eval/trec_eval ../data/2020-07-16/eval/qrels-covid_d5_j0.5-5.txt ../data/2020-07-16/eval/narrative-result.txt"
   ]
  },
  {
   "cell_type": "code",
   "execution_count": 130,
   "id": "5e902c41",
   "metadata": {},
   "outputs": [],
   "source": [
    "# calculate in Python\n",
    "ndcg_eval_at = [3, 5, 10, 15, 20, 25, 30]\n",
    "recall_eval_at = [5, 10, 20, 50, 100, 300, 500, 1000, 2000]\n",
    "def getEvaluation(results, judgments):\n",
    "    queryEval = []\n",
    "    for queryNo in results:\n",
    "        # doc to relevant score\n",
    "        relMap = {}\n",
    "        # number of docs in each relevant score\n",
    "        relCount = {}\n",
    "        totalRel = 0\n",
    "        for j in judgments[queryNo]:\n",
    "            score = int(j['judgment'])\n",
    "            relMap[j['cordId']] = score\n",
    "            relCount[score] = relCount.get(score, 0) + 1\n",
    "            if score > 0:\n",
    "                totalRel += 1\n",
    "        truePositive = 0\n",
    "        falsePositive = 0\n",
    "        precisions = []\n",
    "        reciprocalRank = 0\n",
    "        cumulativeGain = 0\n",
    "        discountedCumulativeGain = 0\n",
    "        idealDCG = 0\n",
    "        dcgAt = {}\n",
    "        idcgAt = {}\n",
    "        ndcgAt = {}\n",
    "        index = 1\n",
    "        recallAt = {}\n",
    "        for score in sorted(relCount.keys(), reverse=True):\n",
    "            for i in range(relCount[score]):\n",
    "                idealDCG += (2 ** score - 1) / (math.log2(1 + index))\n",
    "                if index in ndcg_eval_at:\n",
    "                    idcgAt[index] = idealDCG\n",
    "                index += 1\n",
    "        for (index, doc) in enumerate(results[queryNo]):\n",
    "            docId = doc['_id']\n",
    "            score = doc['_score']\n",
    "            cumulativeGain += relMap.get(docId, 0)\n",
    "            discountedCumulativeGain += (2 ** (relMap.get(docId, 0)) - 1) / (math.log2(1 + (1 + i)))\n",
    "            if relMap.get(docId, 0) > 0:\n",
    "                truePositive += 1\n",
    "                # recall increase\n",
    "                precisions.append(truePositive / (truePositive + falsePositive))\n",
    "                if reciprocalRank == 0:\n",
    "                    reciprocalRank = 1 / (index+1)\n",
    "            else:\n",
    "                falsePositive += 1\n",
    "            if index + 1 in ndcg_eval_at and (index + 1) in idcgAt:\n",
    "                dcgAt[index + 1] = discountedCumulativeGain\n",
    "                ndcgAt[index + 1] = dcgAt[index + 1] / idcgAt[index + 1]\n",
    "            if index + 1 in recall_eval_at:\n",
    "                recallAt[index + 1] = truePositive / totalRel\n",
    "        queryEval.append({\n",
    "            'AveragePrecision': sum(precisions) / totalRel,\n",
    "            'ReciprocalRank': reciprocalRank,\n",
    "            'CG': cumulativeGain,\n",
    "            'DCG': discountedCumulativeGain,\n",
    "            'IDCG': idealDCG,\n",
    "            'nDCG': discountedCumulativeGain / idealDCG,\n",
    "            'nDCGAt': ndcgAt,\n",
    "            'recallAt': recallAt\n",
    "        })\n",
    "    return {\n",
    "        'MeanAveragePrecisions': sum(map(lambda e: e['AveragePrecision'], queryEval)) / len(queryEval),\n",
    "        'MeanReciprocalRank': sum(map(lambda e: e['ReciprocalRank'], queryEval)) / len(queryEval),\n",
    "        'AverageNDCG': sum(map(lambda e: e['nDCG'], queryEval)) / len(queryEval),\n",
    "        'AverageNDCGAt': {k: sum(map(lambda e: e['nDCGAt'][k], queryEval)) / len(queryEval) for k in ndcg_eval_at},\n",
    "        'AverageRecallAt': {k: sum(map(lambda e: e['recallAt'][k], queryEval)) / len(queryEval) for k in recall_eval_at}\n",
    "    }\n",
    "            "
   ]
  },
  {
   "cell_type": "code",
   "execution_count": 131,
   "id": "c237bddf",
   "metadata": {},
   "outputs": [
    {
     "data": {
      "text/plain": [
       "{'MeanAveragePrecisions': 0.1635238316451846,\n",
       " 'MeanReciprocalRank': 0.8136031746031747,\n",
       " 'AverageNDCG': 0.38867618286150374,\n",
       " 'AverageNDCGAt': {3: 0.13364055103725428,\n",
       "  5: 0.1418463555798589,\n",
       "  10: 0.1680738131354743,\n",
       "  15: 0.18464160353165723,\n",
       "  20: 0.19572503874359487,\n",
       "  25: 0.20166118601071548,\n",
       "  30: 0.21199265201748066},\n",
       " 'AverageRecallAt': {5: 0.007571936093659915,\n",
       "  10: 0.014347370761125028,\n",
       "  20: 0.025675868223038946,\n",
       "  50: 0.05593293689518463,\n",
       "  100: 0.09603243791764829,\n",
       "  300: 0.19102147143584872,\n",
       "  500: 0.24733333654721015,\n",
       "  1000: 0.33052551322334905,\n",
       "  2000: 0.4095861748310034}}"
      ]
     },
     "execution_count": 131,
     "metadata": {},
     "output_type": "execute_result"
    }
   ],
   "source": [
    "getEvaluation(results['query'], judgments)"
   ]
  },
  {
   "cell_type": "code",
   "execution_count": 132,
   "id": "22ba6bae",
   "metadata": {},
   "outputs": [
    {
     "data": {
      "text/plain": [
       "{'MeanAveragePrecisions': 0.1069352221754944,\n",
       " 'MeanReciprocalRank': 0.6930461107519932,\n",
       " 'AverageNDCG': 0.33474171006421577,\n",
       " 'AverageNDCGAt': {3: 0.09875194087296979,\n",
       "  5: 0.11636770250055294,\n",
       "  10: 0.13835908558004478,\n",
       "  15: 0.1488085799127936,\n",
       "  20: 0.15100867206756832,\n",
       "  25: 0.15061045685942806,\n",
       "  30: 0.15584868010479463},\n",
       " 'AverageRecallAt': {5: 0.005727560253085045,\n",
       "  10: 0.011274666322520223,\n",
       "  20: 0.019611381677786005,\n",
       "  50: 0.04029976874013658,\n",
       "  100: 0.06874504517191328,\n",
       "  300: 0.14134107296584295,\n",
       "  500: 0.1872360647993138,\n",
       "  1000: 0.262906206090903,\n",
       "  2000: 0.3441130401280342}}"
      ]
     },
     "execution_count": 132,
     "metadata": {},
     "output_type": "execute_result"
    }
   ],
   "source": [
    "getEvaluation(results['question'], judgments)"
   ]
  },
  {
   "cell_type": "code",
   "execution_count": 133,
   "id": "3e38adb9",
   "metadata": {},
   "outputs": [
    {
     "data": {
      "text/plain": [
       "{'MeanAveragePrecisions': 0.09779059095732671,\n",
       " 'MeanReciprocalRank': 0.6434796152314557,\n",
       " 'AverageNDCG': 0.31829248511175434,\n",
       " 'AverageNDCGAt': {3: 0.09286698794380803,\n",
       "  5: 0.09907587042444932,\n",
       "  10: 0.12023696099287039,\n",
       "  15: 0.1276837496201119,\n",
       "  20: 0.1381839021514124,\n",
       "  25: 0.1423471423387641,\n",
       "  30: 0.14730348405985721},\n",
       " 'AverageRecallAt': {5: 0.005375328395812915,\n",
       "  10: 0.00957656146663195,\n",
       "  20: 0.01846469816821065,\n",
       "  50: 0.03979425169564572,\n",
       "  100: 0.06755924917514011,\n",
       "  300: 0.14027205045030436,\n",
       "  500: 0.18055745790997046,\n",
       "  1000: 0.249785212170616,\n",
       "  2000: 0.32925109486394566}}"
      ]
     },
     "execution_count": 133,
     "metadata": {},
     "output_type": "execute_result"
    }
   ],
   "source": [
    "getEvaluation(results['narrative'], judgments)"
   ]
  },
  {
   "cell_type": "code",
   "execution_count": null,
   "id": "2e0671fc",
   "metadata": {},
   "outputs": [],
   "source": []
  },
  {
   "cell_type": "code",
   "execution_count": null,
   "id": "911cb753",
   "metadata": {},
   "outputs": [],
   "source": []
  },
  {
   "cell_type": "code",
   "execution_count": null,
   "id": "a3f832c8",
   "metadata": {},
   "outputs": [],
   "source": []
  },
  {
   "cell_type": "code",
   "execution_count": null,
   "id": "0370e724",
   "metadata": {},
   "outputs": [],
   "source": []
  }
 ],
 "metadata": {
  "kernelspec": {
   "display_name": "Python 3 (ipykernel)",
   "language": "python",
   "name": "python3"
  },
  "language_info": {
   "codemirror_mode": {
    "name": "ipython",
    "version": 3
   },
   "file_extension": ".py",
   "mimetype": "text/x-python",
   "name": "python",
   "nbconvert_exporter": "python",
   "pygments_lexer": "ipython3",
   "version": "3.9.7"
  }
 },
 "nbformat": 4,
 "nbformat_minor": 5
}
